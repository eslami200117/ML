{
  "cells": [
    {
      "cell_type": "markdown",
      "metadata": {
        "id": "NV_N43cLT9tY"
      },
      "source": [
        "# Introduction to PyTorch\n",
        "Summer of Code 2023 - [Hadi Babalou](https://github.com/Hadi-loo), [Nesa Abbasi](https://github.com/Nesabbasi), [Hesam Asadollahzadeh](https://github.com/HesamAsad)"
      ]
    },
    {
      "cell_type": "markdown",
      "metadata": {
        "id": "9jjfN8rfT9tb"
      },
      "source": [
        "The following notebook is meant to give a short introduction to PyTorch basics, and get you setup for writing your own neural networks. PyTorch is an open source machine learning framework that allows you to write your own neural networks and optimize them efficiently. However, PyTorch is not the only framework of its kind. Alternatives to PyTorch include [TensorFlow](https://www.tensorflow.org/), [JAX](https://github.com/google/jax#quickstart-colab-in-the-cloud) and [Caffe](http://caffe.berkeleyvision.org/). We choose to teach PyTorch because it is well established, has a huge developer community (originally developed by Facebook), is very flexible and especially used in research. Many current papers publish their code in PyTorch, and thus it is good to be familiar with PyTorch as well.\n",
        "Meanwhile, TensorFlow (developed by Google) is usually known for being a production-grade deep learning library. Still, if you know one machine learning framework in depth, it is very easy to learn another one because many of them use the same concepts and ideas. For instance, TensorFlow's version 2 was heavily inspired by the most popular features of PyTorch, making the frameworks even more similar.\n",
        "If you are already familiar with PyTorch and have created your own neural network projects, feel free to just skim this notebook.\n",
        "\n",
        "We are of course not the first ones to create a PyTorch tutorial. There are many great tutorials online, including the [\"60-min blitz\"](https://pytorch.org/tutorials/beginner/deep_learning_60min_blitz.html) on the official [PyTorch website](https://pytorch.org/tutorials/). Yet, we choose to create our own tutorial which is designed to give you the basics particularly necessary for the practicals, but still understand how PyTorch works under the hood.\n",
        "\n",
        "We will use a set of standard libraries that are often used in machine learning projects. If you are running this notebook on Google Colab, all libraries should be pre-installed."
      ]
    },
    {
      "cell_type": "code",
      "execution_count": 1,
      "metadata": {
        "execution": {
          "iopub.execute_input": "2023-08-28T18:45:44.778444Z",
          "iopub.status.busy": "2023-08-28T18:45:44.777601Z",
          "iopub.status.idle": "2023-08-28T18:45:46.073218Z",
          "shell.execute_reply": "2023-08-28T18:45:46.072242Z",
          "shell.execute_reply.started": "2023-08-28T18:45:44.778414Z"
        },
        "id": "UnIdKEw_T9tc",
        "trusted": true
      },
      "outputs": [
        {
          "name": "stderr",
          "output_type": "stream",
          "text": [
            "/tmp/ipykernel_5436/47578708.py:11: DeprecationWarning: `set_matplotlib_formats` is deprecated since IPython 7.23, directly use `matplotlib_inline.backend_inline.set_matplotlib_formats()`\n",
            "  set_matplotlib_formats('svg', 'pdf') # For export\n"
          ]
        }
      ],
      "source": [
        "## Standard libraries\n",
        "import os\n",
        "import math\n",
        "import numpy as np\n",
        "import time\n",
        "\n",
        "## Imports for plotting\n",
        "import matplotlib.pyplot as plt\n",
        "%matplotlib inline\n",
        "from IPython.display import set_matplotlib_formats\n",
        "set_matplotlib_formats('svg', 'pdf') # For export\n",
        "from matplotlib.colors import to_rgba\n",
        "import seaborn as sns\n",
        "sns.set()\n",
        "\n",
        "## Progress bar\n",
        "from tqdm.notebook import tqdm"
      ]
    },
    {
      "cell_type": "markdown",
      "metadata": {
        "id": "zKUlw4lgT9tf"
      },
      "source": [
        "## The Basics of PyTorch\n",
        "\n",
        "We will start with reviewing the very basic concepts of PyTorch. As a prerequisite, we recommend to be familiar with the `numpy` package as most machine learning frameworks are based on very similar concepts. If you are not familiar with numpy yet, don't worry: here is a [tutorial](https://numpy.org/devdocs/user/quickstart.html) to go through.\n",
        "\n",
        "So, let's start with importing PyTorch. The package is called `torch`, based on its original framework [Torch](http://torch.ch/). As a first step, we can check its version:"
      ]
    },
    {
      "cell_type": "code",
      "execution_count": 2,
      "metadata": {
        "execution": {
          "iopub.execute_input": "2023-08-28T18:45:46.075639Z",
          "iopub.status.busy": "2023-08-28T18:45:46.075197Z",
          "iopub.status.idle": "2023-08-28T18:45:50.376954Z",
          "shell.execute_reply": "2023-08-28T18:45:50.371678Z",
          "shell.execute_reply.started": "2023-08-28T18:45:46.075606Z"
        },
        "id": "z4AwCN-NT9tg",
        "trusted": true
      },
      "outputs": [
        {
          "name": "stdout",
          "output_type": "stream",
          "text": [
            "Using torch 2.0.1+cu117\n",
            "Cuda: 11.7\n"
          ]
        }
      ],
      "source": [
        "import torch\n",
        "print(\"Using torch\", torch.__version__)\n",
        "print(\"Cuda:\", torch.version.cuda)"
      ]
    },
    {
      "cell_type": "markdown",
      "metadata": {
        "id": "JK_4xyegT9tj"
      },
      "source": [
        "At the time of writing this tutorial, the current stable version is 2.0.0. You should therefore see the output `Using torch 2.0.0`و eventually with some extension for the CUDA version or cpu. In general, it is recommended to keep the PyTorch version updated to the newest one. The interface between PyTorch versions doesn't change too much, and hence all code should also be runnable with newer versions.\n",
        "\n",
        "As in every machine learning framework, PyTorch provides functions that are stochastic like generating random numbers. However, a very good practice is to setup your code to be reproducible with the exact same random numbers. This is why we set a seed below."
      ]
    },
    {
      "cell_type": "code",
      "execution_count": 3,
      "metadata": {
        "execution": {
          "iopub.execute_input": "2023-08-28T18:45:50.386787Z",
          "iopub.status.busy": "2023-08-28T18:45:50.386112Z",
          "iopub.status.idle": "2023-08-28T18:45:50.407159Z",
          "shell.execute_reply": "2023-08-28T18:45:50.406201Z",
          "shell.execute_reply.started": "2023-08-28T18:45:50.386751Z"
        },
        "id": "UvYUb6R0T9tk",
        "trusted": true
      },
      "outputs": [
        {
          "data": {
            "text/plain": [
              "<torch._C.Generator at 0x7f1748351330>"
            ]
          },
          "execution_count": 3,
          "metadata": {},
          "output_type": "execute_result"
        }
      ],
      "source": [
        "torch.manual_seed(42)torch.manual_seed(42) # Setting the seed"
      ]
    },
    {
      "cell_type": "markdown",
      "metadata": {
        "id": "7bQu0545T9tl"
      },
      "source": [
        "### Tensors\n",
        "\n",
        "Tensors are the PyTorch equivalent to Numpy arrays, with the addition to also have support for GPU acceleration (more on that later).\n",
        "The name \"tensor\" is a generalization of concepts you already know. For instance, a vector is a 1-D tensor, and a matrix a 2-D tensor. When working with neural networks, we will use tensors of various shapes and number of dimensions.\n",
        "\n",
        "Most common functions you know from numpy can be used on tensors as well. Actually, since numpy arrays are so similar to tensors, we can convert most tensors to numpy arrays (and back) but we don't need it too often.\n",
        "\n",
        "#### Initialization\n",
        "\n",
        "Let's first start by looking at different ways of creating a tensor. There are many possible options, the simplest one is to call `torch.Tensor` passing the desired shape as input argument:"
      ]
    },
    {
      "cell_type": "code",
      "execution_count": 4,
      "metadata": {
        "execution": {
          "iopub.execute_input": "2023-08-28T18:45:50.415696Z",
          "iopub.status.busy": "2023-08-28T18:45:50.412655Z",
          "iopub.status.idle": "2023-08-28T18:45:50.515634Z",
          "shell.execute_reply": "2023-08-28T18:45:50.514761Z",
          "shell.execute_reply.started": "2023-08-28T18:45:50.415663Z"
        },
        "id": "stbphz8iT9tm",
        "trusted": true
      },
      "outputs": [
        {
          "name": "stdout",
          "output_type": "stream",
          "text": [
            "tensor([[[ 2.5898e-38,  3.9737e-31,  1.4173e-36, -2.9723e+12],\n",
            "         [ 3.5290e-37, -2.0055e+29,  6.4095e-30,  9.4515e+22],\n",
            "         [-4.6173e+10,  7.7940e-38,  1.0045e-39,  5.7803e-33]],\n",
            "\n",
            "        [[-1.8198e+29,  1.6303e-27, -1.1097e-31, -2.3712e+29],\n",
            "         [ 1.6303e-27, -2.9198e-29, -2.5446e+29,  1.6303e-27],\n",
            "         [ 1.6547e-24, -6.6454e-27,  1.2074e-13,  1.4449e-33]]])\n"
          ]
        }
      ],
      "source": [
        "x = torch.Tensor(2, 3, 4)\n",
        "print(x)"
      ]
    },
    {
      "cell_type": "markdown",
      "metadata": {
        "id": "3-s6RzFqT9tn"
      },
      "source": [
        "The function `torch.Tensor` allocates memory for the desired tensor, but reuses any values that have already been in the memory. To directly assign values to the tensor during initialization, there are many alternatives including:\n",
        "\n",
        "* `torch.zeros`: Creates a tensor filled with zeros\n",
        "* `torch.ones`: Creates a tensor filled with ones\n",
        "* `torch.rand`: Creates a tensor with random values uniformly sampled between 0 and 1\n",
        "* `torch.randn`: Creates a tensor with random values sampled from a normal distribution with mean 0 and variance 1\n",
        "* `torch.arange`: Creates a tensor containing the values $N,N+1,N+2,...,M$\n",
        "* `torch.Tensor` (input list): Creates a tensor from the list elements you provide"
      ]
    },
    {
      "cell_type": "code",
      "execution_count": 5,
      "metadata": {
        "execution": {
          "iopub.execute_input": "2023-08-28T18:45:50.518389Z",
          "iopub.status.busy": "2023-08-28T18:45:50.516539Z",
          "iopub.status.idle": "2023-08-28T18:45:50.526643Z",
          "shell.execute_reply": "2023-08-28T18:45:50.525784Z",
          "shell.execute_reply.started": "2023-08-28T18:45:50.518357Z"
        },
        "id": "Gdhmp1z6T9to",
        "trusted": true
      },
      "outputs": [
        {
          "name": "stdout",
          "output_type": "stream",
          "text": [
            "tensor([[1., 2.],\n",
            "        [3., 4.]])\n"
          ]
        }
      ],
      "source": [
        "# Create a tensor from a (nested) list\n",
        "x = torch.Tensor([[1, 2], [3, 4]])\n",
        "print(x)"
      ]
    },
    {
      "cell_type": "code",
      "execution_count": 6,
      "metadata": {
        "execution": {
          "iopub.execute_input": "2023-08-28T18:45:50.530420Z",
          "iopub.status.busy": "2023-08-28T18:45:50.528779Z",
          "iopub.status.idle": "2023-08-28T18:45:50.544267Z",
          "shell.execute_reply": "2023-08-28T18:45:50.543383Z",
          "shell.execute_reply.started": "2023-08-28T18:45:50.530375Z"
        },
        "id": "QI6n0O9UPqHO",
        "trusted": true
      },
      "outputs": [
        {
          "name": "stdout",
          "output_type": "stream",
          "text": [
            "tensor([[[0., 0., 0., 0.],\n",
            "         [0., 0., 0., 0.],\n",
            "         [0., 0., 0., 0.]],\n",
            "\n",
            "        [[0., 0., 0., 0.],\n",
            "         [0., 0., 0., 0.],\n",
            "         [0., 0., 0., 0.]]])\n"
          ]
        }
      ],
      "source": [
        "x = torch.zeros([2, 3, 4])\n",
        "print(x)"
      ]
    },
    {
      "cell_type": "code",
      "execution_count": 7,
      "metadata": {
        "execution": {
          "iopub.execute_input": "2023-08-28T18:45:50.546456Z",
          "iopub.status.busy": "2023-08-28T18:45:50.545813Z",
          "iopub.status.idle": "2023-08-28T18:45:50.561425Z",
          "shell.execute_reply": "2023-08-28T18:45:50.560528Z",
          "shell.execute_reply.started": "2023-08-28T18:45:50.546424Z"
        },
        "id": "d90D8H2NPqHP",
        "trusted": true
      },
      "outputs": [
        {
          "name": "stdout",
          "output_type": "stream",
          "text": [
            "tensor([[[1., 1., 1., 1.],\n",
            "         [1., 1., 1., 1.],\n",
            "         [1., 1., 1., 1.]],\n",
            "\n",
            "        [[1., 1., 1., 1.],\n",
            "         [1., 1., 1., 1.],\n",
            "         [1., 1., 1., 1.]]])\n"
          ]
        }
      ],
      "source": [
        "x = torch.ones([2, 3, 4])\n",
        "print(x)"
      ]
    },
    {
      "cell_type": "code",
      "execution_count": 8,
      "metadata": {
        "execution": {
          "iopub.execute_input": "2023-08-28T18:45:50.563636Z",
          "iopub.status.busy": "2023-08-28T18:45:50.562888Z",
          "iopub.status.idle": "2023-08-28T18:45:50.582056Z",
          "shell.execute_reply": "2023-08-28T18:45:50.581142Z",
          "shell.execute_reply.started": "2023-08-28T18:45:50.563605Z"
        },
        "id": "rE-K8fEST9tp",
        "trusted": true
      },
      "outputs": [
        {
          "name": "stdout",
          "output_type": "stream",
          "text": [
            "tensor([[[0.8823, 0.9150, 0.3829, 0.9593],\n",
            "         [0.3904, 0.6009, 0.2566, 0.7936],\n",
            "         [0.9408, 0.1332, 0.9346, 0.5936]],\n",
            "\n",
            "        [[0.8694, 0.5677, 0.7411, 0.4294],\n",
            "         [0.8854, 0.5739, 0.2666, 0.6274],\n",
            "         [0.2696, 0.4414, 0.2969, 0.8317]]])\n"
          ]
        }
      ],
      "source": [
        "# Create a tensor with random values between 0 and 1 with the shape [2, 3, 4]\n",
        "x = torch.rand(2, 3, 4)\n",
        "print(x)"
      ]
    },
    {
      "cell_type": "code",
      "execution_count": 9,
      "metadata": {
        "execution": {
          "iopub.execute_input": "2023-08-28T18:45:50.584231Z",
          "iopub.status.busy": "2023-08-28T18:45:50.583611Z",
          "iopub.status.idle": "2023-08-28T18:45:50.598742Z",
          "shell.execute_reply": "2023-08-28T18:45:50.597880Z",
          "shell.execute_reply.started": "2023-08-28T18:45:50.584201Z"
        },
        "id": "E_qkh7EAPqHQ",
        "trusted": true
      },
      "outputs": [
        {
          "name": "stdout",
          "output_type": "stream",
          "text": [
            "tensor([0, 2, 4, 6, 8])\n"
          ]
        }
      ],
      "source": [
        "# Returns a 1-D tensor of size ⌈end−startstep⌉⌈stepend−start​⌉ with values from the interval [start, end) taken with common difference step beginning from start.\n",
        "x = torch.arange(start=0, end=10, step=2)\n",
        "print(x)"
      ]
    },
    {
      "cell_type": "code",
      "execution_count": 10,
      "metadata": {
        "execution": {
          "iopub.execute_input": "2023-08-28T18:45:50.615560Z",
          "iopub.status.busy": "2023-08-28T18:45:50.615222Z",
          "iopub.status.idle": "2023-08-28T18:45:50.622177Z",
          "shell.execute_reply": "2023-08-28T18:45:50.621398Z",
          "shell.execute_reply.started": "2023-08-28T18:45:50.615531Z"
        },
        "id": "poGNvX-oPqHR",
        "trusted": true
      },
      "outputs": [
        {
          "name": "stdout",
          "output_type": "stream",
          "text": [
            "tensor([[[ 0.3559, -0.6866, -0.4934,  0.2415],\n",
            "         [-1.1109,  0.0915, -2.3169, -0.2168],\n",
            "         [-0.9138, -0.6581,  0.0780,  0.5258]],\n",
            "\n",
            "        [[-0.4880,  1.1914, -0.8140, -0.7360],\n",
            "         [-1.4032,  0.0360, -0.0635,  0.6756],\n",
            "         [-0.0978,  1.8446, -1.1845,  1.3835]]])\n"
          ]
        }
      ],
      "source": [
        "# Returns a tensor filled with random numbers from a normal distribution with mean 0 and variance 1\n",
        "x = torch.randn(2, 3, 4)\n",
        "print(x)"
      ]
    },
    {
      "cell_type": "markdown",
      "metadata": {
        "id": "LYPhB_YTT9tp"
      },
      "source": [
        "You can obtain the shape of a tensor in the same way as in numpy (`x.shape`), or using the `.size` method:"
      ]
    },
    {
      "cell_type": "code",
      "execution_count": 11,
      "metadata": {
        "execution": {
          "iopub.execute_input": "2023-08-28T18:45:50.624134Z",
          "iopub.status.busy": "2023-08-28T18:45:50.623537Z",
          "iopub.status.idle": "2023-08-28T18:45:50.638296Z",
          "shell.execute_reply": "2023-08-28T18:45:50.637544Z",
          "shell.execute_reply.started": "2023-08-28T18:45:50.624105Z"
        },
        "id": "Q-aC94GQT9tp",
        "trusted": true
      },
      "outputs": [
        {
          "name": "stdout",
          "output_type": "stream",
          "text": [
            "Shape: torch.Size([2, 3, 4])\n",
            "Size: torch.Size([2, 3, 4])\n",
            "Size: 2 3 4\n"
          ]
        }
      ],
      "source": [
        "shape = x.shape\n",
        "print(\"Shape:\", x.shape)\n",
        "\n",
        "size = x.size()\n",
        "print(\"Size:\", size)\n",
        "\n",
        "dim1, dim2, dim3 = x.size()\n",
        "print(\"Size:\", dim1, dim2, dim3)"
      ]
    },
    {
      "cell_type": "markdown",
      "metadata": {
        "id": "IbhIyDgPT9tq"
      },
      "source": [
        "#### Tensor to Numpy, and Numpy to Tensor\n",
        "\n",
        "Tensors can be converted to numpy arrays, and numpy arrays back to tensors. To transform a numpy array into a tensor, we can use the function `torch.from_numpy`:"
      ]
    },
    {
      "cell_type": "code",
      "execution_count": 12,
      "metadata": {
        "execution": {
          "iopub.execute_input": "2023-08-28T18:45:50.641536Z",
          "iopub.status.busy": "2023-08-28T18:45:50.639703Z",
          "iopub.status.idle": "2023-08-28T18:45:50.656815Z",
          "shell.execute_reply": "2023-08-28T18:45:50.655952Z",
          "shell.execute_reply.started": "2023-08-28T18:45:50.641504Z"
        },
        "id": "VUr0aQ8xT9tq",
        "trusted": true
      },
      "outputs": [
        {
          "name": "stdout",
          "output_type": "stream",
          "text": [
            "Numpy array: [[1 2]\n",
            " [3 4]]\n",
            "PyTorch tensor: tensor([[1, 2],\n",
            "        [3, 4]])\n"
          ]
        }
      ],
      "source": [
        "np_arr = np.array([[1, 2], [3, 4]])\n",
        "tensor = torch.from_numpy(np_arr)\n",
        "\n",
        "print(\"Numpy array:\", np_arr)\n",
        "print(\"PyTorch tensor:\", tensor)"
      ]
    },
    {
      "cell_type": "markdown",
      "metadata": {
        "id": "kv1ZwcIFT9tr"
      },
      "source": [
        "To transform a PyTorch tensor back to a numpy array, we can use the function `.numpy()` on tensors:"
      ]
    },
    {
      "cell_type": "code",
      "execution_count": 13,
      "metadata": {
        "execution": {
          "iopub.execute_input": "2023-08-28T18:45:50.658961Z",
          "iopub.status.busy": "2023-08-28T18:45:50.658257Z",
          "iopub.status.idle": "2023-08-28T18:45:50.670644Z",
          "shell.execute_reply": "2023-08-28T18:45:50.669551Z",
          "shell.execute_reply.started": "2023-08-28T18:45:50.658918Z"
        },
        "id": "F4m2ecaLT9tr",
        "trusted": true
      },
      "outputs": [
        {
          "name": "stdout",
          "output_type": "stream",
          "text": [
            "PyTorch tensor: tensor([0, 1, 2, 3])\n",
            "Numpy array: [0 1 2 3]\n"
          ]
        }
      ],
      "source": [
        "tensor = torch.arange(4)\n",
        "np_arr = tensor.numpy()\n",
        "\n",
        "print(\"PyTorch tensor:\", tensor)\n",
        "print(\"Numpy array:\", np_arr)"
      ]
    },
    {
      "cell_type": "markdown",
      "metadata": {
        "id": "7hRKfZhfT9ts"
      },
      "source": [
        "The conversion of tensors to numpy require the tensor to be on the CPU, and not the GPU (more on GPU support in a later section). In case you have a tensor on GPU, you need to call `.cpu()` on the tensor beforehand. Hence, you get a line like `np_arr = tensor.cpu().numpy()`."
      ]
    },
    {
      "cell_type": "markdown",
      "metadata": {
        "id": "fIy3A45ZT9ts"
      },
      "source": [
        "#### Operations\n",
        "\n",
        "Most operations that exist in numpy, also exist in PyTorch. A full list of operations can be found in the [PyTorch documentation](https://pytorch.org/docs/stable/tensors.html#), but we will review the most important ones here.\n",
        "\n",
        "The simplest operation is to add two tensors:"
      ]
    },
    {
      "cell_type": "code",
      "execution_count": 14,
      "metadata": {
        "execution": {
          "iopub.execute_input": "2023-08-28T18:45:50.674045Z",
          "iopub.status.busy": "2023-08-28T18:45:50.673027Z",
          "iopub.status.idle": "2023-08-28T18:45:50.697003Z",
          "shell.execute_reply": "2023-08-28T18:45:50.696138Z",
          "shell.execute_reply.started": "2023-08-28T18:45:50.674013Z"
        },
        "id": "CRr7WwrcT9ts",
        "trusted": true
      },
      "outputs": [
        {
          "name": "stdout",
          "output_type": "stream",
          "text": [
            "X1 tensor([[0.6532, 0.3958, 0.9147],\n",
            "        [0.2036, 0.2018, 0.2018]])\n",
            "X2 tensor([[0.9497, 0.6666, 0.9811],\n",
            "        [0.0874, 0.0041, 0.1088]])\n",
            "Y tensor([[1.6029, 1.0625, 1.8958],\n",
            "        [0.2910, 0.2059, 0.3106]])\n"
          ]
        }
      ],
      "source": [
        "x1 = torch.rand(2, 3)\n",
        "x2 = torch.rand(2, 3)\n",
        "y = x1 + x2\n",
        "\n",
        "print(\"X1\", x1)\n",
        "print(\"X2\", x2)\n",
        "print(\"Y\", y)"
      ]
    },
    {
      "cell_type": "markdown",
      "metadata": {
        "id": "smmv4lnET9tt"
      },
      "source": [
        "Calling `x1 + x2` creates a new tensor containing the sum of the two inputs. However, we can also use in-place operations that are applied directly on the memory of a tensor. We therefore change the values of `x2` without the chance to re-accessing the values of `x2` before the operation. An example is shown below:"
      ]
    },
    {
      "cell_type": "code",
      "execution_count": 15,
      "metadata": {
        "execution": {
          "iopub.execute_input": "2023-08-28T18:45:50.699339Z",
          "iopub.status.busy": "2023-08-28T18:45:50.698599Z",
          "iopub.status.idle": "2023-08-28T18:45:50.721881Z",
          "shell.execute_reply": "2023-08-28T18:45:50.720537Z",
          "shell.execute_reply.started": "2023-08-28T18:45:50.699307Z"
        },
        "id": "Di6Th1GTT9tt",
        "trusted": true
      },
      "outputs": [
        {
          "name": "stdout",
          "output_type": "stream",
          "text": [
            "X1 (before) tensor([[0.1637, 0.7025, 0.6790],\n",
            "        [0.9155, 0.2418, 0.1591]])\n",
            "X2 (before) tensor([[0.7653, 0.2979, 0.8035],\n",
            "        [0.3813, 0.7860, 0.1115]])\n",
            "X1 (after) tensor([[0.1637, 0.7025, 0.6790],\n",
            "        [0.9155, 0.2418, 0.1591]])\n",
            "X2 (after) tensor([[0.9289, 1.0004, 1.4825],\n",
            "        [1.2968, 1.0278, 0.2707]])\n"
          ]
        }
      ],
      "source": [
        "x1 = torch.rand(2, 3)\n",
        "x2 = torch.rand(2, 3)\n",
        "print(\"X1 (before)\", x1)\n",
        "print(\"X2 (before)\", x2)\n",
        "\n",
        "x2.add_(x1)\n",
        "print(\"X1 (after)\", x1)\n",
        "print(\"X2 (after)\", x2)"
      ]
    },
    {
      "cell_type": "markdown",
      "metadata": {
        "id": "6---HL9AT9tu"
      },
      "source": [
        "In-place operations are usually marked with a underscore postfix (e.g. \"add_\" instead of \"add\").\n",
        "\n",
        "Another common operation aims at changing the shape of a tensor. A tensor of size (2,3) can be re-organized to any other shape with the same number of elements (e.g. a tensor of size (6), or (3,2), ...). In PyTorch, this operation is called `view`:"
      ]
    },
    {
      "cell_type": "code",
      "execution_count": 16,
      "metadata": {
        "execution": {
          "iopub.execute_input": "2023-08-28T18:45:50.725960Z",
          "iopub.status.busy": "2023-08-28T18:45:50.724376Z",
          "iopub.status.idle": "2023-08-28T18:45:50.740286Z",
          "shell.execute_reply": "2023-08-28T18:45:50.739316Z",
          "shell.execute_reply.started": "2023-08-28T18:45:50.725920Z"
        },
        "id": "M3CAG33YT9tv",
        "trusted": true
      },
      "outputs": [
        {
          "name": "stdout",
          "output_type": "stream",
          "text": [
            "X tensor([0, 1, 2, 3, 4, 5])\n"
          ]
        }
      ],
      "source": [
        "x = torch.arange(6)\n",
        "print(\"X\", x)"
      ]
    },
    {
      "cell_type": "code",
      "execution_count": 17,
      "metadata": {
        "execution": {
          "iopub.execute_input": "2023-08-28T18:45:50.745930Z",
          "iopub.status.busy": "2023-08-28T18:45:50.744319Z",
          "iopub.status.idle": "2023-08-28T18:45:50.764460Z",
          "shell.execute_reply": "2023-08-28T18:45:50.763265Z",
          "shell.execute_reply.started": "2023-08-28T18:45:50.745767Z"
        },
        "id": "6f2MnUfXT9tw",
        "trusted": true
      },
      "outputs": [
        {
          "name": "stdout",
          "output_type": "stream",
          "text": [
            "X tensor([[0, 1, 2],\n",
            "        [3, 4, 5]])\n"
          ]
        }
      ],
      "source": [
        "x = x.view(2, 3)\n",
        "print(\"X\", x)"
      ]
    },
    {
      "cell_type": "code",
      "execution_count": 18,
      "metadata": {
        "execution": {
          "iopub.execute_input": "2023-08-28T18:45:50.768701Z",
          "iopub.status.busy": "2023-08-28T18:45:50.767037Z",
          "iopub.status.idle": "2023-08-28T18:45:50.782668Z",
          "shell.execute_reply": "2023-08-28T18:45:50.781189Z",
          "shell.execute_reply.started": "2023-08-28T18:45:50.768667Z"
        },
        "id": "zaCslelLT9tw",
        "trusted": true
      },
      "outputs": [
        {
          "name": "stdout",
          "output_type": "stream",
          "text": [
            "X tensor([[0, 3],\n",
            "        [1, 4],\n",
            "        [2, 5]])\n"
          ]
        }
      ],
      "source": [
        "x = x.permute(1, 0) # Swapping dimension 0 and 1\n",
        "print(\"X\", x)"
      ]
    },
    {
      "cell_type": "markdown",
      "metadata": {
        "id": "FUoo7l7ST9tx"
      },
      "source": [
        "Other commonly used operations include matrix multiplications, which are essential for neural networks. Quite often, we have an input vector $\\mathbf{x}$, which is transformed using a learned weight matrix $\\mathbf{W}$. There are multiple ways and functions to perform matrix multiplication, some of which we list below:\n",
        "\n",
        "* `torch.matmul`: Performs the matrix product over two tensors, where the specific behavior depends on the dimensions. If both inputs are matrices (2-dimensional tensors), it performs the standard matrix product. For higher dimensional inputs, the function supports broadcasting (for details see the [documentation](https://pytorch.org/docs/stable/generated/torch.matmul.html?highlight=matmul#torch.matmul)). Can also be written as `a @ b`, similar to numpy.\n",
        "* `torch.mm`: Performs the matrix product over two matrices, but doesn't support broadcasting (see [documentation](https://pytorch.org/docs/stable/generated/torch.mm.html?highlight=torch%20mm#torch.mm))\n",
        "* `torch.bmm`: Performs the matrix product with a support batch dimension. If the first tensor $T$ is of shape ($b\\times n\\times m$), and the second tensor $R$ ($b\\times m\\times p$), the output $O$ is of shape ($b\\times n\\times p$), and has been calculated by performing $b$ matrix multiplications of the submatrices of $T$ and $R$: $O_i = T_i @ R_i$\n",
        "* `torch.einsum`: Performs matrix multiplications and more (i.e. sums of products) using the Einstein summation convention.\n",
        "\n",
        "Usually, we use `torch.matmul` or `torch.bmm`. We can try a matrix multiplication with `torch.matmul` below."
      ]
    },
    {
      "cell_type": "code",
      "execution_count": 19,
      "metadata": {
        "execution": {
          "iopub.execute_input": "2023-08-28T18:45:50.792356Z",
          "iopub.status.busy": "2023-08-28T18:45:50.786342Z",
          "iopub.status.idle": "2023-08-28T18:45:50.802938Z",
          "shell.execute_reply": "2023-08-28T18:45:50.801140Z",
          "shell.execute_reply.started": "2023-08-28T18:45:50.792321Z"
        },
        "id": "R-A3g6NwT9ty",
        "trusted": true
      },
      "outputs": [
        {
          "name": "stdout",
          "output_type": "stream",
          "text": [
            "X tensor([[0, 1, 2],\n",
            "        [3, 4, 5]])\n"
          ]
        }
      ],
      "source": [
        "x = torch.arange(6)\n",
        "x = x.view(2, 3)\n",
        "print(\"X\", x)"
      ]
    },
    {
      "cell_type": "code",
      "execution_count": 20,
      "metadata": {
        "execution": {
          "iopub.execute_input": "2023-08-28T18:45:50.806715Z",
          "iopub.status.busy": "2023-08-28T18:45:50.805145Z",
          "iopub.status.idle": "2023-08-28T18:45:50.817840Z",
          "shell.execute_reply": "2023-08-28T18:45:50.816916Z",
          "shell.execute_reply.started": "2023-08-28T18:45:50.806669Z"
        },
        "id": "9PY6gAEaT9ty",
        "trusted": true
      },
      "outputs": [
        {
          "name": "stdout",
          "output_type": "stream",
          "text": [
            "W tensor([[0, 1, 2],\n",
            "        [3, 4, 5],\n",
            "        [6, 7, 8]])\n"
          ]
        }
      ],
      "source": [
        "W = torch.arange(9).view(3, 3) # We can also stack multiple operations in a single line\n",
        "print(\"W\", W)"
      ]
    },
    {
      "cell_type": "code",
      "execution_count": 21,
      "metadata": {
        "execution": {
          "iopub.execute_input": "2023-08-28T18:45:50.821560Z",
          "iopub.status.busy": "2023-08-28T18:45:50.820657Z",
          "iopub.status.idle": "2023-08-28T18:45:50.849384Z",
          "shell.execute_reply": "2023-08-28T18:45:50.848480Z",
          "shell.execute_reply.started": "2023-08-28T18:45:50.821525Z"
        },
        "id": "fEggRbkYT9tz",
        "trusted": true
      },
      "outputs": [
        {
          "name": "stdout",
          "output_type": "stream",
          "text": [
            "h tensor([[15, 18, 21],\n",
            "        [42, 54, 66]])\n"
          ]
        }
      ],
      "source": [
        "h = torch.matmul(x, W) # Verify the result by calculating it by hand too!\n",
        "print(\"h\", h)"
      ]
    },
    {
      "cell_type": "markdown",
      "metadata": {
        "id": "62k1WUhET9tz"
      },
      "source": [
        "#### Indexing\n",
        "\n",
        "We often have the situation where we need to select a part of a tensor. Indexing works just like in numpy, so let's try it:"
      ]
    },
    {
      "cell_type": "code",
      "execution_count": 22,
      "metadata": {
        "execution": {
          "iopub.execute_input": "2023-08-28T18:45:50.862640Z",
          "iopub.status.busy": "2023-08-28T18:45:50.850987Z",
          "iopub.status.idle": "2023-08-28T18:45:50.870933Z",
          "shell.execute_reply": "2023-08-28T18:45:50.870040Z",
          "shell.execute_reply.started": "2023-08-28T18:45:50.862607Z"
        },
        "id": "pG3V8AouT9tz",
        "trusted": true
      },
      "outputs": [
        {
          "name": "stdout",
          "output_type": "stream",
          "text": [
            "X tensor([[ 0,  1,  2,  3],\n",
            "        [ 4,  5,  6,  7],\n",
            "        [ 8,  9, 10, 11]])\n"
          ]
        }
      ],
      "source": [
        "x = torch.arange(12).view(3, 4)\n",
        "print(\"X\", x)"
      ]
    },
    {
      "cell_type": "code",
      "execution_count": 23,
      "metadata": {
        "execution": {
          "iopub.execute_input": "2023-08-28T18:45:50.873437Z",
          "iopub.status.busy": "2023-08-28T18:45:50.872754Z",
          "iopub.status.idle": "2023-08-28T18:45:50.889579Z",
          "shell.execute_reply": "2023-08-28T18:45:50.888748Z",
          "shell.execute_reply.started": "2023-08-28T18:45:50.873405Z"
        },
        "id": "UBAKpj8-T9t0",
        "trusted": true
      },
      "outputs": [
        {
          "name": "stdout",
          "output_type": "stream",
          "text": [
            "tensor([1, 5, 9])\n"
          ]
        }
      ],
      "source": [
        "print(x[:, 1])   # Second column"
      ]
    },
    {
      "cell_type": "code",
      "execution_count": 24,
      "metadata": {
        "execution": {
          "iopub.execute_input": "2023-08-28T18:45:50.890852Z",
          "iopub.status.busy": "2023-08-28T18:45:50.890474Z",
          "iopub.status.idle": "2023-08-28T18:45:50.901932Z",
          "shell.execute_reply": "2023-08-28T18:45:50.900972Z",
          "shell.execute_reply.started": "2023-08-28T18:45:50.890823Z"
        },
        "id": "R0FHlpsjT9t0",
        "trusted": true
      },
      "outputs": [
        {
          "name": "stdout",
          "output_type": "stream",
          "text": [
            "tensor([0, 1, 2, 3])\n"
          ]
        }
      ],
      "source": [
        "print(x[0])      # First row"
      ]
    },
    {
      "cell_type": "code",
      "execution_count": 25,
      "metadata": {
        "execution": {
          "iopub.execute_input": "2023-08-28T18:45:50.903311Z",
          "iopub.status.busy": "2023-08-28T18:45:50.903022Z",
          "iopub.status.idle": "2023-08-28T18:45:50.912234Z",
          "shell.execute_reply": "2023-08-28T18:45:50.910995Z",
          "shell.execute_reply.started": "2023-08-28T18:45:50.903285Z"
        },
        "id": "Jvi_SmH7T9t1",
        "trusted": true
      },
      "outputs": [
        {
          "name": "stdout",
          "output_type": "stream",
          "text": [
            "tensor([3, 7])\n"
          ]
        }
      ],
      "source": [
        "print(x[:2, -1]) # First two rows, last column"
      ]
    },
    {
      "cell_type": "code",
      "execution_count": 26,
      "metadata": {
        "execution": {
          "iopub.execute_input": "2023-08-28T18:45:50.914368Z",
          "iopub.status.busy": "2023-08-28T18:45:50.914032Z",
          "iopub.status.idle": "2023-08-28T18:45:50.929888Z",
          "shell.execute_reply": "2023-08-28T18:45:50.928969Z",
          "shell.execute_reply.started": "2023-08-28T18:45:50.914338Z"
        },
        "id": "T-9P1lILT9t1",
        "trusted": true
      },
      "outputs": [
        {
          "name": "stdout",
          "output_type": "stream",
          "text": [
            "tensor([[ 4,  5,  6,  7],\n",
            "        [ 8,  9, 10, 11]])\n"
          ]
        }
      ],
      "source": [
        "print(x[1:3, :]) # Middle two rows"
      ]
    },
    {
      "cell_type": "markdown",
      "metadata": {
        "id": "6U8NGbFUT9t1"
      },
      "source": [
        "### Dynamic Computation Graph and Backpropagation\n",
        "\n",
        "One of the main reasons for using PyTorch in Deep Learning projects is that we can automatically get **gradients/derivatives** of functions that we define. We will mainly use PyTorch for implementing neural networks, and they are just fancy functions. If we use weight matrices in our function that we want to learn, then those are called the **parameters** or simply the **weights**.\n",
        "\n",
        "If our neural network would output a single scalar value, we would talk about taking the **derivative**, but you will see that quite often we will have **multiple** output variables (\"values\"); in that case we talk about **gradients**. It's a more general term.\n",
        "\n",
        "Given an input $\\mathbf{x}$, we define our function by **manipulating** that input, usually by matrix-multiplications with weight matrices and additions with so-called bias vectors. As we manipulate our input, we are automatically creating a **computational graph**. This graph shows how to arrive at our output from our input.\n",
        "PyTorch is a **define-by-run** framework; this means that we can just do our manipulations, and PyTorch will keep track of that graph for us. Thus, we create a dynamic computation graph along the way.\n",
        "\n",
        "So, to recap: the only thing we have to do is to compute the **output**, and then we can ask PyTorch to automatically get the **gradients**.\n",
        "\n",
        "> **Note:  Why do we want gradients?** Consider that we have defined a function, a neural net, that is supposed to compute a certain output $y$ for an input vector $\\mathbf{x}$. We then define an **error measure** that tells us how wrong our network is; how bad it is in predicting output $y$ from input $\\mathbf{x}$. Based on this error measure, we can use the gradients to **update** the weights $\\mathbf{W}$ that were responsible for the output, so that the next time we present input $\\mathbf{x}$ to our network, the output will be closer to what we want.\n",
        "\n",
        "The first thing we have to do is to specify which tensors require gradients. By default, when we create a tensor, it does not require gradients."
      ]
    },
    {
      "cell_type": "code",
      "execution_count": 27,
      "metadata": {
        "execution": {
          "iopub.execute_input": "2023-08-28T18:45:50.933173Z",
          "iopub.status.busy": "2023-08-28T18:45:50.931771Z",
          "iopub.status.idle": "2023-08-28T18:45:50.940938Z",
          "shell.execute_reply": "2023-08-28T18:45:50.940041Z",
          "shell.execute_reply.started": "2023-08-28T18:45:50.933140Z"
        },
        "id": "OUxVVrDJT9t2",
        "trusted": true
      },
      "outputs": [
        {
          "name": "stdout",
          "output_type": "stream",
          "text": [
            "False\n"
          ]
        }
      ],
      "source": [
        "x = torch.ones((3,))\n",
        "print(x.requires_grad)"
      ]
    },
    {
      "cell_type": "markdown",
      "metadata": {
        "id": "yuQZO4d6T9t3"
      },
      "source": [
        "We can change this for an existing tensor using the function `requires_grad_()` (underscore indicating that this is a in-place operation). Alternatively, when creating a tensor, you can pass the argument `requires_grad=True` to most initializers we have seen above."
      ]
    },
    {
      "cell_type": "code",
      "execution_count": 28,
      "metadata": {
        "execution": {
          "iopub.execute_input": "2023-08-28T18:45:50.968815Z",
          "iopub.status.busy": "2023-08-28T18:45:50.968223Z",
          "iopub.status.idle": "2023-08-28T18:45:50.980350Z",
          "shell.execute_reply": "2023-08-28T18:45:50.979239Z",
          "shell.execute_reply.started": "2023-08-28T18:45:50.968782Z"
        },
        "id": "5uWeUmXmT9t3",
        "trusted": true
      },
      "outputs": [
        {
          "name": "stdout",
          "output_type": "stream",
          "text": [
            "True\n"
          ]
        }
      ],
      "source": [
        "x.requires_grad_(True)\n",
        "print(x.requires_grad)"
      ]
    },
    {
      "cell_type": "markdown",
      "metadata": {
        "id": "iczHOYn8T9t3"
      },
      "source": [
        "In order to get familiar with the concept of a computation graph, we will create one for the following function:\n",
        "\n",
        "$$y = \\frac{1}{|x|}\\sum_i \\left[(x_i + 2)^2 + 3\\right]$$\n",
        "\n",
        "You could imagine that $x$ are our parameters, and we want to optimize (either maximize or minimize) the output $y$. For this, we want to obtain the gradients $\\partial y / \\partial \\mathbf{x}$. For our example, we'll use $\\mathbf{x}=[0,1,2]$ as our input."
      ]
    },
    {
      "cell_type": "code",
      "execution_count": 29,
      "metadata": {
        "execution": {
          "iopub.execute_input": "2023-08-28T18:45:50.984901Z",
          "iopub.status.busy": "2023-08-28T18:45:50.982918Z",
          "iopub.status.idle": "2023-08-28T18:45:50.999764Z",
          "shell.execute_reply": "2023-08-28T18:45:50.997707Z",
          "shell.execute_reply.started": "2023-08-28T18:45:50.984867Z"
        },
        "id": "QJl1VdJDT9t4",
        "trusted": true
      },
      "outputs": [
        {
          "name": "stdout",
          "output_type": "stream",
          "text": [
            "X tensor([0., 1., 2.], requires_grad=True)\n"
          ]
        }
      ],
      "source": [
        "x = torch.arange(3, dtype=torch.float32, requires_grad=True) # Only float tensors can have gradients\n",
        "print(\"X\", x)"
      ]
    },
    {
      "cell_type": "markdown",
      "metadata": {
        "id": "TjZbWzp-T9t4"
      },
      "source": [
        "Now let's build the computation graph step by step. You can combine multiple operations in a single line, but we will separate them here to get a better understanding of how each operation is added to the computation graph."
      ]
    },
    {
      "cell_type": "code",
      "execution_count": 30,
      "metadata": {
        "execution": {
          "iopub.execute_input": "2023-08-28T18:45:51.002554Z",
          "iopub.status.busy": "2023-08-28T18:45:51.001659Z",
          "iopub.status.idle": "2023-08-28T18:45:51.029454Z",
          "shell.execute_reply": "2023-08-28T18:45:51.028659Z",
          "shell.execute_reply.started": "2023-08-28T18:45:51.002521Z"
        },
        "id": "XVirY3UxT9t4",
        "trusted": true
      },
      "outputs": [
        {
          "name": "stdout",
          "output_type": "stream",
          "text": [
            "Y tensor(12.6667, grad_fn=<MeanBackward0>)\n"
          ]
        }
      ],
      "source": [
        "a = x + 2\n",
        "b = a ** 2\n",
        "c = b + 3\n",
        "y = c.mean()\n",
        "print(\"Y\", y)"
      ]
    },
    {
      "cell_type": "markdown",
      "metadata": {
        "id": "l7pc2K4cT9t5"
      },
      "source": [
        "Using the statements above, we have created a computation graph that looks similar to the figure below:\n",
        "\n",
        "<center style=\"width: 100%\"><img src=\"https://github.com/phlippe/uvadlc_notebooks/blob/master/docs/tutorial_notebooks/tutorial2/pytorch_computation_graph.svg?raw=1\" width=\"200px\"></center>\n",
        "\n",
        "We calculate $a$ based on the inputs $x$ and the constant $2$, $b$ is $a$ squared, and so on. The visualization is an abstraction of the dependencies between inputs and outputs of the operations we have applied.\n",
        "Each node of the computation graph has automatically defined a function for calculating the gradients with respect to its inputs, `grad_fn`. You can see this when we printed the output tensor $y$. This is why the computation graph is usually visualized in the reverse direction (arrows point from the result to the inputs). We can perform backpropagation on the computation graph by calling the function `backward()` on the last output, which effectively calculates the gradients for each tensor that has the property `requires_grad=True`:"
      ]
    },
    {
      "cell_type": "code",
      "execution_count": 31,
      "metadata": {
        "execution": {
          "iopub.execute_input": "2023-08-28T18:45:51.030609Z",
          "iopub.status.busy": "2023-08-28T18:45:51.030275Z",
          "iopub.status.idle": "2023-08-28T18:45:51.220631Z",
          "shell.execute_reply": "2023-08-28T18:45:51.219337Z",
          "shell.execute_reply.started": "2023-08-28T18:45:51.030580Z"
        },
        "id": "d1oPL0IkT9t5",
        "trusted": true
      },
      "outputs": [],
      "source": [
        "y.backward()"
      ]
    },
    {
      "cell_type": "markdown",
      "metadata": {
        "id": "Mx5SmzoKT9t5"
      },
      "source": [
        "`x.grad` will now contain the gradient $\\partial y/ \\partial \\mathcal{x}$, and this gradient indicates how a change in $\\mathbf{x}$ will affect output $y$ given the current input $\\mathbf{x}=[0,1,2]$:"
      ]
    },
    {
      "cell_type": "code",
      "execution_count": 32,
      "metadata": {
        "execution": {
          "iopub.execute_input": "2023-08-28T18:45:51.222293Z",
          "iopub.status.busy": "2023-08-28T18:45:51.221950Z",
          "iopub.status.idle": "2023-08-28T18:45:51.234314Z",
          "shell.execute_reply": "2023-08-28T18:45:51.233234Z",
          "shell.execute_reply.started": "2023-08-28T18:45:51.222264Z"
        },
        "id": "wej6O-diT9t6",
        "trusted": true
      },
      "outputs": [
        {
          "name": "stdout",
          "output_type": "stream",
          "text": [
            "tensor([1.3333, 2.0000, 2.6667])\n"
          ]
        }
      ],
      "source": [
        "print(x.grad)"
      ]
    },
    {
      "cell_type": "markdown",
      "metadata": {
        "id": "4ZtTmD1tT9t6"
      },
      "source": [
        "We can also verify these gradients by hand. We will calculate the gradients using the chain rule, in the same way as PyTorch did it:\n",
        "\n",
        "$$\\frac{\\partial y}{\\partial x_i} = \\frac{\\partial y}{\\partial c_i}\\frac{\\partial c_i}{\\partial b_i}\\frac{\\partial b_i}{\\partial a_i}\\frac{\\partial a_i}{\\partial x_i}$$\n",
        "\n",
        "Note that we have simplified this equation to index notation, and by using the fact that all operation besides the mean do not combine the elements in the tensor. The partial derivatives are:\n",
        "\n",
        "$$\n",
        "\\frac{\\partial a_i}{\\partial x_i} = 1,\\hspace{1cm}\n",
        "\\frac{\\partial b_i}{\\partial a_i} = 2\\cdot a_i\\hspace{1cm}\n",
        "\\frac{\\partial c_i}{\\partial b_i} = 1\\hspace{1cm}\n",
        "\\frac{\\partial y}{\\partial c_i} = \\frac{1}{3}\n",
        "$$\n",
        "\n",
        "Hence, with the input being $\\mathbf{x}=[0,1,2]$, our gradients are $\\partial y/\\partial \\mathbf{x}=[4/3,2,8/3]$. The previous code cell should have printed the same result."
      ]
    },
    {
      "cell_type": "markdown",
      "metadata": {
        "id": "daHQLA0oT9t7"
      },
      "source": [
        "### GPU support\n",
        "\n",
        "A crucial feature of PyTorch is the support of GPUs, short for Graphics Processing Unit. A GPU can perform many thousands of small operations in parallel, making it very well suitable for performing large matrix operations in neural networks. When comparing GPUs to CPUs, we can list the following main differences (credit: [Kevin Krewell, 2009](https://blogs.nvidia.com/blog/2009/12/16/whats-the-difference-between-a-cpu-and-a-gpu/))\n",
        "\n",
        "<center style=\"width: 100%\"><img src=\"https://github.com/phlippe/uvadlc_notebooks/blob/master/docs/tutorial_notebooks/tutorial2/comparison_CPU_GPU.png?raw=1\" width=\"700px\"></center>\n",
        "\n",
        "CPUs and GPUs have both different advantages and disadvantages, which is why many computers contain both components and use them for different tasks. In case you are not familiar with GPUs, you can read up more details in this [NVIDIA blog post](https://blogs.nvidia.com/blog/2009/12/16/whats-the-difference-between-a-cpu-and-a-gpu/) or [here](https://www.intel.com/content/www/us/en/products/docs/processors/what-is-a-gpu.html).\n",
        "\n",
        "GPUs can accelerate the training of your network up to a factor of $100$ which is essential for large neural networks. PyTorch implements a lot of functionality for supporting GPUs (mostly those of NVIDIA due to the libraries [CUDA](https://developer.nvidia.com/cuda-zone) and [cuDNN](https://developer.nvidia.com/cudnn)). First, let's check whether you have a GPU available:"
      ]
    },
    {
      "cell_type": "code",
      "execution_count": 33,
      "metadata": {
        "execution": {
          "iopub.execute_input": "2023-08-28T18:45:51.235752Z",
          "iopub.status.busy": "2023-08-28T18:45:51.235420Z",
          "iopub.status.idle": "2023-08-28T18:45:51.242566Z",
          "shell.execute_reply": "2023-08-28T18:45:51.241473Z",
          "shell.execute_reply.started": "2023-08-28T18:45:51.235723Z"
        },
        "id": "MfgYaAelT9t7",
        "trusted": true
      },
      "outputs": [
        {
          "name": "stdout",
          "output_type": "stream",
          "text": [
            "Is the GPU available? True\n"
          ]
        }
      ],
      "source": [
        "gpu_avail = torch.cuda.is_available()\n",
        "print(f\"Is the GPU available? {gpu_avail}\")"
      ]
    },
    {
      "cell_type": "markdown",
      "metadata": {
        "id": "lqJ5b2miT9t8"
      },
      "source": [
        "If you have a GPU on your computer but the command above returns False, make sure you have the correct CUDA-version installed. The `dl2022` environment comes with the CUDA 11.7, which is selected for the Lisa supercomputer. Please change it if necessary (CUDA 11.3 is currently common on Colab). On Google Colab, make sure that you have selected a GPU in your runtime setup (in the menu, check under `Runtime -> Change runtime type`).\n",
        "\n",
        "By default, all tensors you create are stored on the CPU. We can push a tensor to the GPU by using the function `.to(...)`, or `.cuda()`. However, it is often a good practice to define a `device` object in your code which points to the GPU if you have one, and otherwise to the CPU. Then, you can write your code with respect to this device object, and it allows you to run the same code on both a CPU-only system, and one with a GPU. Let's try it below. We can specify the device as follows:"
      ]
    },
    {
      "cell_type": "code",
      "execution_count": 34,
      "metadata": {
        "execution": {
          "iopub.execute_input": "2023-08-28T18:45:51.246512Z",
          "iopub.status.busy": "2023-08-28T18:45:51.243482Z",
          "iopub.status.idle": "2023-08-28T18:45:51.260294Z",
          "shell.execute_reply": "2023-08-28T18:45:51.259439Z",
          "shell.execute_reply.started": "2023-08-28T18:45:51.246460Z"
        },
        "id": "0X_AzQuUT9t8",
        "trusted": true
      },
      "outputs": [
        {
          "name": "stdout",
          "output_type": "stream",
          "text": [
            "Device cuda\n"
          ]
        }
      ],
      "source": [
        "device = torch.device(\"cuda\") if torch.cuda.is_available() else torch.device(\"cpu\")\n",
        "print(\"Device\", device)"
      ]
    },
    {
      "cell_type": "markdown",
      "metadata": {
        "id": "aqWWfcCvT9t8"
      },
      "source": [
        "Now let's create a tensor and push it to the device:"
      ]
    },
    {
      "cell_type": "code",
      "execution_count": 35,
      "metadata": {
        "execution": {
          "iopub.execute_input": "2023-08-28T18:45:51.262586Z",
          "iopub.status.busy": "2023-08-28T18:45:51.261928Z",
          "iopub.status.idle": "2023-08-28T18:45:55.038620Z",
          "shell.execute_reply": "2023-08-28T18:45:55.037560Z",
          "shell.execute_reply.started": "2023-08-28T18:45:51.262553Z"
        },
        "id": "rjXNCv0BT9t9",
        "trusted": true
      },
      "outputs": [
        {
          "name": "stdout",
          "output_type": "stream",
          "text": [
            "X tensor([[0., 0., 0.],\n",
            "        [0., 0., 0.]], device='cuda:0')\n"
          ]
        }
      ],
      "source": [
        "x = torch.zeros(2, 3)\n",
        "x = x.to(device)\n",
        "print(\"X\", x)"
      ]
    },
    {
      "cell_type": "markdown",
      "metadata": {
        "id": "B2Kww4rGT9t9"
      },
      "source": [
        "In case you have a GPU, you should now see the attribute `device='cuda:0'` being printed next to your tensor. The zero next to cuda indicates that this is the zero-th GPU device on your computer. PyTorch also supports multi-GPU systems, but this you will only need once you have very big networks to train (if interested, see the [PyTorch documentation](https://pytorch.org/docs/stable/distributed.html#distributed-basics)). We can also compare the runtime of a large matrix multiplication on the CPU with a operation on the GPU:"
      ]
    },
    {
      "cell_type": "code",
      "execution_count": 36,
      "metadata": {
        "execution": {
          "iopub.execute_input": "2023-08-28T18:45:55.041746Z",
          "iopub.status.busy": "2023-08-28T18:45:55.040240Z",
          "iopub.status.idle": "2023-08-28T18:46:00.223751Z",
          "shell.execute_reply": "2023-08-28T18:46:00.222759Z",
          "shell.execute_reply.started": "2023-08-28T18:45:55.041710Z"
        },
        "id": "ZWpKuyK3T9t-",
        "trusted": true
      },
      "outputs": [
        {
          "name": "stdout",
          "output_type": "stream",
          "text": [
            "CPU time: 0.95831s\n"
          ]
        },
        {
          "name": "stdout",
          "output_type": "stream",
          "text": [
            "GPU time: 0.17867s\n"
          ]
        }
      ],
      "source": [
        "x = torch.randn(5000, 5000)\n",
        "\n",
        "## CPU version\n",
        "start_time = time.time()\n",
        "_ = torch.matmul(x, x)\n",
        "end_time = time.time()\n",
        "print(f\"CPU time: {(end_time - start_time):6.5f}s\")\n",
        "\n",
        "## GPU version\n",
        "x = x.to(device)\n",
        "_ = torch.matmul(x, x)  # First operation to 'burn in' GPU\n",
        "# CUDA is asynchronous, so we need to use different timing functions\n",
        "start = torch.cuda.Event(enable_timing=True)\n",
        "end = torch.cuda.Event(enable_timing=True)\n",
        "start.record()\n",
        "_ = torch.matmul(x, x)\n",
        "end.record()\n",
        "torch.cuda.synchronize()  # Waits for everything to finish running on the GPU\n",
        "print(f\"GPU time: {0.001 * start.elapsed_time(end):6.5f}s\")  # Milliseconds to seconds"
      ]
    },
    {
      "cell_type": "markdown",
      "metadata": {
        "id": "um-s9KLkT9t-"
      },
      "source": [
        "Depending on the size of the operation and the CPU/GPU in your system, the speedup of this operation can be >50x. As `matmul` operations are very common in neural networks, we can already see the great benefit of training a NN on a GPU. The time estimate can be relatively noisy here because we haven't run it for multiple times. Feel free to extend this, but it also takes longer to run.\n",
        "\n",
        "When generating random numbers, the seed between CPU and GPU is not synchronized. Hence, we need to set the seed on the GPU separately to ensure a reproducible code. Note that due to different GPU architectures, running the same code on different GPUs does not guarantee the same random numbers. Still, we don't want that our code gives us a different output every time we run it on the exact same hardware. Hence, we also set the seed on the GPU:"
      ]
    },
    {
      "cell_type": "code",
      "execution_count": 37,
      "metadata": {
        "execution": {
          "iopub.execute_input": "2023-08-28T18:46:00.226744Z",
          "iopub.status.busy": "2023-08-28T18:46:00.225103Z",
          "iopub.status.idle": "2023-08-28T18:46:00.232323Z",
          "shell.execute_reply": "2023-08-28T18:46:00.231406Z",
          "shell.execute_reply.started": "2023-08-28T18:46:00.226706Z"
        },
        "id": "kvB3yXohT9t_",
        "trusted": true
      },
      "outputs": [],
      "source": [
        "# GPU operations have a separate seed we also want to set\n",
        "if torch.cuda.is_available():\n",
        "    torch.cuda.manual_seed(42)\n",
        "    torch.cuda.manual_seed_all(42)\n",
        "\n",
        "# Additionally, some operations on a GPU are implemented stochastic for efficiency\n",
        "# We want to ensure that all operations are deterministic on GPU (if used) for reproducibility\n",
        "torch.backends.cudnn.deterministic = True\n",
        "torch.backends.cudnn.benchmark = False"
      ]
    },
    {
      "cell_type": "markdown",
      "metadata": {
        "id": "tWy5C9aKT9uA"
      },
      "source": [
        "## Learning by example: Continuous XOR\n",
        "\n",
        "If we want to build a neural network in PyTorch, we could specify all our parameters (weight matrices, bias vectors) using `Tensors` (with `requires_grad=True`), ask PyTorch to calculate the gradients and then adjust the parameters. But things can quickly get cumbersome if we have a lot of parameters. In PyTorch, there is a package called `torch.nn` that makes building neural networks more convenient.\n",
        "\n",
        "We will introduce the libraries and all additional parts you might need to train a neural network in PyTorch, using a simple example classifier on a simple yet well known example: XOR. Given two binary inputs $x_1$ and $x_2$, the label to predict is $1$ if either $x_1$ or $x_2$ is $1$ while the other is $0$, or the label is $0$ in all other cases. The example became famous by the fact that a single neuron, i.e. a linear classifier, cannot learn this simple function.\n",
        "Hence, we will learn how to build a small neural network that can learn this function.\n",
        "To make it a little bit more interesting, we move the XOR into continuous space and introduce some gaussian noise on the binary inputs. Our desired separation of an XOR dataset could look as follows:\n",
        "\n",
        "<center style=\"width: 100%\"><img src=\"https://github.com/phlippe/uvadlc_notebooks/blob/master/docs/tutorial_notebooks/tutorial2/continuous_xor.svg?raw=1\" width=\"350px\"></center>"
      ]
    },
    {
      "cell_type": "markdown",
      "metadata": {
        "id": "YRu0dq0uT9uA"
      },
      "source": [
        "### The model\n",
        "\n",
        "The package `torch.nn` defines a series of useful classes like linear networks layers, activation functions, loss functions etc. A full list can be found [here](https://pytorch.org/docs/stable/nn.html). In case you need a certain network layer, check the documentation of the package first before writing the layer yourself as the package likely contains the code for it already. We import it below:"
      ]
    },
    {
      "cell_type": "code",
      "execution_count": 38,
      "metadata": {
        "execution": {
          "iopub.execute_input": "2023-08-28T18:46:00.235438Z",
          "iopub.status.busy": "2023-08-28T18:46:00.234713Z",
          "iopub.status.idle": "2023-08-28T18:46:00.248329Z",
          "shell.execute_reply": "2023-08-28T18:46:00.247267Z",
          "shell.execute_reply.started": "2023-08-28T18:46:00.235404Z"
        },
        "id": "kYbk77uOT9uB",
        "trusted": true
      },
      "outputs": [],
      "source": [
        "import torch.nn as nn"
      ]
    },
    {
      "cell_type": "markdown",
      "metadata": {
        "id": "EXIg3HFoT9uC"
      },
      "source": [
        "Additionally to `torch.nn`, there is also `torch.nn.functional`. It contains functions that are used in network layers. This is in contrast to `torch.nn` which defines them as `nn.Modules` (more on it below), and `torch.nn` actually uses a lot of functionalities from `torch.nn.functional`. Hence, the functional package is useful in many situations, and so we import it as well here."
      ]
    },
    {
      "cell_type": "code",
      "execution_count": 39,
      "metadata": {
        "execution": {
          "iopub.execute_input": "2023-08-28T18:46:00.251651Z",
          "iopub.status.busy": "2023-08-28T18:46:00.251349Z",
          "iopub.status.idle": "2023-08-28T18:46:00.258683Z",
          "shell.execute_reply": "2023-08-28T18:46:00.257682Z",
          "shell.execute_reply.started": "2023-08-28T18:46:00.251628Z"
        },
        "id": "x0-xmHWLT9uC",
        "trusted": true
      },
      "outputs": [],
      "source": [
        "import torch.nn.functional as F"
      ]
    },
    {
      "cell_type": "markdown",
      "metadata": {
        "id": "an9kbgSDT9uD"
      },
      "source": [
        "#### nn.Module\n",
        "\n",
        "In PyTorch, a neural network is built up out of modules. Modules can contain other modules, and a neural network is considered to be a module itself as well. The basic template of a module is as follows:"
      ]
    },
    {
      "cell_type": "code",
      "execution_count": 40,
      "metadata": {
        "execution": {
          "iopub.execute_input": "2023-08-28T18:46:00.260056Z",
          "iopub.status.busy": "2023-08-28T18:46:00.259807Z",
          "iopub.status.idle": "2023-08-28T18:46:00.271947Z",
          "shell.execute_reply": "2023-08-28T18:46:00.271000Z",
          "shell.execute_reply.started": "2023-08-28T18:46:00.260034Z"
        },
        "id": "pX6Or1x6T9uD",
        "trusted": true
      },
      "outputs": [],
      "source": [
        "class MyModule(nn.Module):\n",
        "\n",
        "    def __init__(self):\n",
        "        super().__init__()\n",
        "        # Some init for my module\n",
        "\n",
        "    def forward(self, x):\n",
        "        # Function for performing the calculation of the module.\n",
        "        pass"
      ]
    },
    {
      "cell_type": "markdown",
      "metadata": {
        "id": "CeuSNTfzT9uE"
      },
      "source": [
        "The forward function is where the computation of the module is taken place, and is executed when you call the module (`nn = MyModule(); nn(x)`). In the init function, we usually create the parameters of the module, using `nn.Parameter`, or defining other modules that are used in the forward function. The backward calculation is done automatically, but could be overwritten as well if wanted.\n",
        "\n",
        "#### Simple classifier\n",
        "We can now make use of the pre-defined modules in the `torch.nn` package, and define our own small neural network. We will use a minimal network with a input layer, one hidden layer with tanh as activation function, and a output layer. In other words, our networks should look something like this:\n",
        "\n",
        "<center width=\"100%\"><img src=\"https://github.com/phlippe/uvadlc_notebooks/blob/master/docs/tutorial_notebooks/tutorial2/small_neural_network.svg?raw=1\" width=\"300px\"></center>\n",
        "\n",
        "The input neurons are shown in blue, which represent the coordinates $x_1$ and $x_2$ of a data point. The hidden neurons including a tanh activation are shown in white, and the output neuron in red.\n",
        "In PyTorch, we can define this as follows:"
      ]
    },
    {
      "cell_type": "code",
      "execution_count": 41,
      "metadata": {
        "execution": {
          "iopub.execute_input": "2023-08-28T18:46:00.273758Z",
          "iopub.status.busy": "2023-08-28T18:46:00.273321Z",
          "iopub.status.idle": "2023-08-28T18:46:00.284168Z",
          "shell.execute_reply": "2023-08-28T18:46:00.283092Z",
          "shell.execute_reply.started": "2023-08-28T18:46:00.273726Z"
        },
        "id": "fIIUifo8T9uF",
        "trusted": true
      },
      "outputs": [],
      "source": [
        "class SimpleClassifier(nn.Module):\n",
        "\n",
        "    def __init__(self, num_inputs, num_hidden, num_outputs):\n",
        "        super().__init__()\n",
        "        # Initialize the modules we need to build the network\n",
        "        self.linear1 = nn.Linear(num_inputs, num_hidden)\n",
        "        self.act_fn = nn.Tanh()\n",
        "        self.linear2 = nn.Linear(num_hidden, num_outputs)\n",
        "\n",
        "    def forward(self, x):\n",
        "        # Perform the calculation of the model to determine the prediction\n",
        "        x = self.linear1(x)\n",
        "        x = self.act_fn(x)\n",
        "        x = self.linear2(x)\n",
        "        return x"
      ]
    },
    {
      "cell_type": "markdown",
      "metadata": {
        "id": "_zKvzFtxT9uF"
      },
      "source": [
        "For the examples in this notebook, we will use a tiny neural network with two input neurons and four hidden neurons. As we perform binary classification, we will use a single output neuron. Note that we do not apply a sigmoid on the output yet. This is because other functions, especially the loss, are more efficient and precise to calculate on the original outputs instead of the sigmoid output. We will discuss the detailed reason later."
      ]
    },
    {
      "cell_type": "code",
      "execution_count": 42,
      "metadata": {
        "execution": {
          "iopub.execute_input": "2023-08-28T18:46:00.287250Z",
          "iopub.status.busy": "2023-08-28T18:46:00.286991Z",
          "iopub.status.idle": "2023-08-28T18:46:00.299662Z",
          "shell.execute_reply": "2023-08-28T18:46:00.298633Z",
          "shell.execute_reply.started": "2023-08-28T18:46:00.287228Z"
        },
        "id": "6GEaQ1_FT9uF",
        "trusted": true
      },
      "outputs": [
        {
          "name": "stdout",
          "output_type": "stream",
          "text": [
            "SimpleClassifier(\n",
            "  (linear1): Linear(in_features=2, out_features=4, bias=True)\n",
            "  (act_fn): Tanh()\n",
            "  (linear2): Linear(in_features=4, out_features=1, bias=True)\n",
            ")\n"
          ]
        }
      ],
      "source": [
        "model = SimpleClassifier(num_inputs=2, num_hidden=4, num_outputs=1)\n",
        "# Printing a module shows all its submodules\n",
        "print(model)"
      ]
    },
    {
      "cell_type": "markdown",
      "metadata": {
        "id": "lcgf8gC3T9uF"
      },
      "source": [
        "Printing the model lists all submodules it contains. The parameters of a module can be obtained by using its `parameters()` functions, or `named_parameters()` to get a name to each parameter object. For our small neural network, we have the following parameters:"
      ]
    },
    {
      "cell_type": "code",
      "execution_count": 43,
      "metadata": {
        "execution": {
          "iopub.execute_input": "2023-08-28T18:46:00.302095Z",
          "iopub.status.busy": "2023-08-28T18:46:00.301077Z",
          "iopub.status.idle": "2023-08-28T18:46:00.308667Z",
          "shell.execute_reply": "2023-08-28T18:46:00.307523Z",
          "shell.execute_reply.started": "2023-08-28T18:46:00.302064Z"
        },
        "id": "LVnqfFq0T9uF",
        "trusted": true
      },
      "outputs": [
        {
          "name": "stdout",
          "output_type": "stream",
          "text": [
            "Parameter linear1.weight, shape torch.Size([4, 2])\n",
            "Parameter linear1.bias, shape torch.Size([4])\n",
            "Parameter linear2.weight, shape torch.Size([1, 4])\n",
            "Parameter linear2.bias, shape torch.Size([1])\n"
          ]
        }
      ],
      "source": [
        "for name, param in model.named_parameters():\n",
        "    print(f\"Parameter {name}, shape {param.shape}\")"
      ]
    },
    {
      "cell_type": "markdown",
      "metadata": {
        "id": "A_eIuwYAT9uG"
      },
      "source": [
        "Each linear layer has a weight matrix of the shape `[output, input]`, and a bias of the shape `[output]`. The tanh activation function does not have any parameters. Note that parameters are only registered for `nn.Module` objects that are direct object attributes, i.e. `self.a = ...`. If you define a list of modules, the parameters of those are not registered for the outer module and can cause some issues when you try to optimize your module. There are alternatives, like `nn.ModuleList`, `nn.ModuleDict` and `nn.Sequential`, that allow you to have different data structures of modules. We will use them in a few later tutorials and explain them there."
      ]
    },
    {
      "cell_type": "markdown",
      "metadata": {
        "id": "BCktmGhwT9uH"
      },
      "source": [
        "### The data\n",
        "\n",
        "PyTorch also provides a few functionalities to load the training and test data efficiently, summarized in the package `torch.utils.data`."
      ]
    },
    {
      "cell_type": "code",
      "execution_count": 44,
      "metadata": {
        "execution": {
          "iopub.execute_input": "2023-08-28T18:46:00.310714Z",
          "iopub.status.busy": "2023-08-28T18:46:00.309858Z",
          "iopub.status.idle": "2023-08-28T18:46:00.318817Z",
          "shell.execute_reply": "2023-08-28T18:46:00.317958Z",
          "shell.execute_reply.started": "2023-08-28T18:46:00.310681Z"
        },
        "id": "LjnbkUNXT9uH",
        "trusted": true
      },
      "outputs": [],
      "source": [
        "import torch.utils.data as data"
      ]
    },
    {
      "cell_type": "markdown",
      "metadata": {
        "id": "loC7428fT9uH"
      },
      "source": [
        "The data package defines two classes which are the standard interface for handling data in PyTorch: `data.Dataset`, and `data.DataLoader`. The dataset class provides an uniform interface to access the training/test data, while the data loader makes sure to efficiently load and stack the data points from the dataset into batches during training."
      ]
    },
    {
      "cell_type": "markdown",
      "metadata": {
        "id": "x3n9HGDNT9uH"
      },
      "source": [
        "#### The dataset class\n",
        "\n",
        "The dataset class summarizes the basic functionality of a dataset in a natural way. To define a dataset in PyTorch, we simply specify two functions: `__getitem__`, and `__len__`. The get-item function has to return the $i$-th data point in the dataset, while the len function returns the size of the dataset. For the XOR dataset, we can define the dataset class as follows:"
      ]
    },
    {
      "cell_type": "code",
      "execution_count": 45,
      "metadata": {
        "execution": {
          "iopub.execute_input": "2023-08-28T18:46:00.321090Z",
          "iopub.status.busy": "2023-08-28T18:46:00.320188Z",
          "iopub.status.idle": "2023-08-28T18:46:00.331697Z",
          "shell.execute_reply": "2023-08-28T18:46:00.330828Z",
          "shell.execute_reply.started": "2023-08-28T18:46:00.321059Z"
        },
        "id": "Ey0HBGlmT9uH",
        "trusted": true
      },
      "outputs": [],
      "source": [
        "class XORDataset(data.Dataset):\n",
        "\n",
        "    def __init__(self, size, std=0.1):\n",
        "        \"\"\"\n",
        "        Inputs:\n",
        "            size - Number of data points we want to generate\n",
        "            std - Standard deviation of the noise (see generate_continuous_xor function)\n",
        "        \"\"\"\n",
        "        super().__init__()\n",
        "        self.size = size\n",
        "        self.std = std\n",
        "        self.generate_continuous_xor()\n",
        "\n",
        "    def generate_continuous_xor(self):\n",
        "        # Each data point in the XOR dataset has two variables, x and y, that can be either 0 or 1\n",
        "        # The label is their XOR combination, i.e. 1 if only x or only y is 1 while the other is 0.\n",
        "        # If x=y, the label is 0.\n",
        "        data = torch.randint(low=0, high=2, size=(self.size, 2), dtype=torch.float32)\n",
        "        label = (data.sum(dim=1) == 1).to(torch.long)\n",
        "        # To make it slightly more challenging, we add a bit of gaussian noise to the data points.\n",
        "        data += self.std * torch.randn(data.shape)\n",
        "\n",
        "        self.data = data\n",
        "        self.label = label\n",
        "\n",
        "    def __len__(self):\n",
        "        # Number of data point we have. Alternatively self.data.shape[0], or self.label.shape[0]\n",
        "        return self.size\n",
        "\n",
        "    def __getitem__(self, idx):\n",
        "        # Return the idx-th data point of the dataset\n",
        "        # If we have multiple things to return (data point and label), we can return them as tuple\n",
        "        data_point = self.data[idx]\n",
        "        data_label = self.label[idx]\n",
        "        return data_point, data_label"
      ]
    },
    {
      "cell_type": "markdown",
      "metadata": {
        "id": "HrtTplMqT9uI"
      },
      "source": [
        "Let's try to create such a dataset and inspect it:"
      ]
    },
    {
      "cell_type": "code",
      "execution_count": 46,
      "metadata": {
        "execution": {
          "iopub.execute_input": "2023-08-28T18:46:00.334133Z",
          "iopub.status.busy": "2023-08-28T18:46:00.333064Z",
          "iopub.status.idle": "2023-08-28T18:46:00.349829Z",
          "shell.execute_reply": "2023-08-28T18:46:00.348679Z",
          "shell.execute_reply.started": "2023-08-28T18:46:00.334099Z"
        },
        "id": "Y0gdid7BT9uJ",
        "trusted": true
      },
      "outputs": [
        {
          "name": "stdout",
          "output_type": "stream",
          "text": [
            "Size of dataset: 200\n",
            "Data point 0: (tensor([-0.0993,  1.0482]), tensor(1))\n"
          ]
        }
      ],
      "source": [
        "dataset = XORDataset(size=200)\n",
        "print(\"Size of dataset:\", len(dataset))\n",
        "print(\"Data point 0:\", dataset[0])"
      ]
    },
    {
      "cell_type": "markdown",
      "metadata": {
        "id": "3Wr-zlrhT9uJ"
      },
      "source": [
        "To better relate to the dataset, we visualize the samples below."
      ]
    },
    {
      "cell_type": "code",
      "execution_count": 47,
      "metadata": {
        "execution": {
          "iopub.execute_input": "2023-08-28T18:46:00.352023Z",
          "iopub.status.busy": "2023-08-28T18:46:00.351104Z",
          "iopub.status.idle": "2023-08-28T18:46:00.360453Z",
          "shell.execute_reply": "2023-08-28T18:46:00.359694Z",
          "shell.execute_reply.started": "2023-08-28T18:46:00.351992Z"
        },
        "id": "AzXlf7muT9uJ",
        "trusted": true
      },
      "outputs": [],
      "source": [
        "def visualize_samples(data, label):\n",
        "    if isinstance(data, torch.Tensor):\n",
        "        data = data.cpu().numpy()\n",
        "    if isinstance(label, torch.Tensor):\n",
        "        label = label.cpu().numpy()\n",
        "    data_0 = data[label == 0]\n",
        "    data_1 = data[label == 1]\n",
        "\n",
        "    plt.figure(figsize=(4,4))\n",
        "    plt.scatter(data_0[:,0], data_0[:,1], edgecolor=\"#333\", label=\"Class 0\")\n",
        "    plt.scatter(data_1[:,0], data_1[:,1], edgecolor=\"#333\", label=\"Class 1\")\n",
        "    plt.title(\"Dataset samples\")\n",
        "    plt.ylabel(r\"$x_2$\")\n",
        "    plt.xlabel(r\"$x_1$\")\n",
        "    plt.legend()"
      ]
    },
    {
      "cell_type": "code",
      "execution_count": 48,
      "metadata": {
        "execution": {
          "iopub.execute_input": "2023-08-28T18:46:00.362397Z",
          "iopub.status.busy": "2023-08-28T18:46:00.361609Z",
          "iopub.status.idle": "2023-08-28T18:46:01.660479Z",
          "shell.execute_reply": "2023-08-28T18:46:01.659307Z",
          "shell.execute_reply.started": "2023-08-28T18:46:00.362357Z"
        },
        "id": "4nmFGQv3T9uK",
        "trusted": true
      },
      "outputs": [
        {
          "data": {
            "application/pdf": "[encoded data removed]",
            "image/svg+xml": [
              "<?xml version=\"1.0\" encoding=\"utf-8\" standalone=\"no\"?>\n",
              "<!DOCTYPE svg PUBLIC \"-//W3C//DTD SVG 1.1//EN\"\n",
              "  \"http://www.w3.org/Graphics/SVG/1.1/DTD/svg11.dtd\">\n",
              "<svg xmlns:xlink=\"http://www.w3.org/1999/xlink\" width=\"289.424844pt\" height=\"287.037813pt\" viewBox=\"0 0 289.424844 287.037813\" xmlns=\"http://www.w3.org/2000/svg\" version=\"1.1\">\n",
              " <metadata>\n",
              "  <rdf:RDF xmlns:dc=\"http://purl.org/dc/elements/1.1/\" xmlns:cc=\"http://creativecommons.org/ns#\" xmlns:rdf=\"http://www.w3.org/1999/02/22-rdf-syntax-ns#\">\n",
              "   <cc:Work>\n",
              "    <dc:type rdf:resource=\"http://purl.org/dc/dcmitype/StillImage\"/>\n",
              "    <dc:date>2023-09-12T22:22:06.748493</dc:date>\n",
              "    <dc:format>image/svg+xml</dc:format>\n",
              "    <dc:creator>\n",
              "     <cc:Agent>\n",
              "      <dc:title>Matplotlib v3.7.2, https://matplotlib.org/</dc:title>\n",
              "     </cc:Agent>\n",
              "    </dc:creator>\n",
              "   </cc:Work>\n",
              "  </rdf:RDF>\n",
              " </metadata>\n",
              " <defs>\n",
              "  <style type=\"text/css\">*{stroke-linejoin: round; stroke-linecap: butt}</style>\n",
              " </defs>\n",
              " <g id=\"figure_1\">\n",
              "  <g id=\"patch_1\">\n",
              "   <path d=\"M 0 287.037813 \n",
              "L 289.424844 287.037813 \n",
              "L 289.424844 0 \n",
              "L 0 0 \n",
              "z\n",
              "\" style=\"fill: #ffffff\"/>\n",
              "  </g>\n",
              "  <g id=\"axes_1\">\n",
              "   <g id=\"patch_2\">\n",
              "    <path d=\"M 59.024844 244.078125 \n",
              "L 282.224844 244.078125 \n",
              "L 282.224844 22.318125 \n",
              "L 59.024844 22.318125 \n",
              "z\n",
              "\" style=\"fill: #eaeaf2\"/>\n",
              "   </g>\n",
              "   <g id=\"matplotlib.axis_1\">\n",
              "    <g id=\"xtick_1\">\n",
              "     <g id=\"line2d_1\">\n",
              "      <path d=\"M 101.146144 244.078125 \n",
              "L 101.146144 22.318125 \n",
              "\" clip-path=\"url(#p52dc6110e4)\" style=\"fill: none; stroke: #ffffff; stroke-linecap: round\"/>\n",
              "     </g>\n",
              "     <g id=\"text_1\">\n",
              "      <!-- 0.0 -->\n",
              "      <g style=\"fill: #262626\" transform=\"translate(92.399426 261.936406) scale(0.11 -0.11)\">\n",
              "       <defs>\n",
              "        <path id=\"DejaVuSans-30\" d=\"M 2034 4250 \n",
              "Q 1547 4250 1301 3770 \n",
              "Q 1056 3291 1056 2328 \n",
              "Q 1056 1369 1301 889 \n",
              "Q 1547 409 2034 409 \n",
              "Q 2525 409 2770 889 \n",
              "Q 3016 1369 3016 2328 \n",
              "Q 3016 3291 2770 3770 \n",
              "Q 2525 4250 2034 4250 \n",
              "z\n",
              "M 2034 4750 \n",
              "Q 2819 4750 3233 4129 \n",
              "Q 3647 3509 3647 2328 \n",
              "Q 3647 1150 3233 529 \n",
              "Q 2819 -91 2034 -91 \n",
              "Q 1250 -91 836 529 \n",
              "Q 422 1150 422 2328 \n",
              "Q 422 3509 836 4129 \n",
              "Q 1250 4750 2034 4750 \n",
              "z\n",
              "\" transform=\"scale(0.015625)\"/>\n",
              "        <path id=\"DejaVuSans-2e\" d=\"M 684 794 \n",
              "L 1344 794 \n",
              "L 1344 0 \n",
              "L 684 0 \n",
              "L 684 794 \n",
              "z\n",
              "\" transform=\"scale(0.015625)\"/>\n",
              "       </defs>\n",
              "       <use xlink:href=\"#DejaVuSans-30\"/>\n",
              "       <use xlink:href=\"#DejaVuSans-2e\" x=\"63.623047\"/>\n",
              "       <use xlink:href=\"#DejaVuSans-30\" x=\"95.410156\"/>\n",
              "      </g>\n",
              "     </g>\n",
              "    </g>\n",
              "    <g id=\"xtick_2\">\n",
              "     <g id=\"line2d_2\">\n",
              "      <path d=\"M 170.738025 244.078125 \n",
              "L 170.738025 22.318125 \n",
              "\" clip-path=\"url(#p52dc6110e4)\" style=\"fill: none; stroke: #ffffff; stroke-linecap: round\"/>\n",
              "     </g>\n",
              "     <g id=\"text_2\">\n",
              "      <!-- 0.5 -->\n",
              "      <g style=\"fill: #262626\" transform=\"translate(161.991306 261.936406) scale(0.11 -0.11)\">\n",
              "       <defs>\n",
              "        <path id=\"DejaVuSans-35\" d=\"M 691 4666 \n",
              "L 3169 4666 \n",
              "L 3169 4134 \n",
              "L 1269 4134 \n",
              "L 1269 2991 \n",
              "Q 1406 3038 1543 3061 \n",
              "Q 1681 3084 1819 3084 \n",
              "Q 2600 3084 3056 2656 \n",
              "Q 3513 2228 3513 1497 \n",
              "Q 3513 744 3044 326 \n",
              "Q 2575 -91 1722 -91 \n",
              "Q 1428 -91 1123 -41 \n",
              "Q 819 9 494 109 \n",
              "L 494 744 \n",
              "Q 775 591 1075 516 \n",
              "Q 1375 441 1709 441 \n",
              "Q 2250 441 2565 725 \n",
              "Q 2881 1009 2881 1497 \n",
              "Q 2881 1984 2565 2268 \n",
              "Q 2250 2553 1709 2553 \n",
              "Q 1456 2553 1204 2497 \n",
              "Q 953 2441 691 2322 \n",
              "L 691 4666 \n",
              "z\n",
              "\" transform=\"scale(0.015625)\"/>\n",
              "       </defs>\n",
              "       <use xlink:href=\"#DejaVuSans-30\"/>\n",
              "       <use xlink:href=\"#DejaVuSans-2e\" x=\"63.623047\"/>\n",
              "       <use xlink:href=\"#DejaVuSans-35\" x=\"95.410156\"/>\n",
              "      </g>\n",
              "     </g>\n",
              "    </g>\n",
              "    <g id=\"xtick_3\">\n",
              "     <g id=\"line2d_3\">\n",
              "      <path d=\"M 240.329906 244.078125 \n",
              "L 240.329906 22.318125 \n",
              "\" clip-path=\"url(#p52dc6110e4)\" style=\"fill: none; stroke: #ffffff; stroke-linecap: round\"/>\n",
              "     </g>\n",
              "     <g id=\"text_3\">\n",
              "      <!-- 1.0 -->\n",
              "      <g style=\"fill: #262626\" transform=\"translate(231.583187 261.936406) scale(0.11 -0.11)\">\n",
              "       <defs>\n",
              "        <path id=\"DejaVuSans-31\" d=\"M 794 531 \n",
              "L 1825 531 \n",
              "L 1825 4091 \n",
              "L 703 3866 \n",
              "L 703 4441 \n",
              "L 1819 4666 \n",
              "L 2450 4666 \n",
              "L 2450 531 \n",
              "L 3481 531 \n",
              "L 3481 0 \n",
              "L 794 0 \n",
              "L 794 531 \n",
              "z\n",
              "\" transform=\"scale(0.015625)\"/>\n",
              "       </defs>\n",
              "       <use xlink:href=\"#DejaVuSans-31\"/>\n",
              "       <use xlink:href=\"#DejaVuSans-2e\" x=\"63.623047\"/>\n",
              "       <use xlink:href=\"#DejaVuSans-30\" x=\"95.410156\"/>\n",
              "      </g>\n",
              "     </g>\n",
              "    </g>\n",
              "    <g id=\"text_4\">\n",
              "     <!-- $x_1$ -->\n",
              "     <g style=\"fill: #262626\" transform=\"translate(164.204844 277.342188) scale(0.12 -0.12)\">\n",
              "      <defs>\n",
              "       <path id=\"DejaVuSans-Oblique-78\" d=\"M 3841 3500 \n",
              "L 2234 1784 \n",
              "L 3219 0 \n",
              "L 2559 0 \n",
              "L 1819 1388 \n",
              "L 531 0 \n",
              "L -166 0 \n",
              "L 1556 1844 \n",
              "L 641 3500 \n",
              "L 1300 3500 \n",
              "L 1972 2234 \n",
              "L 3144 3500 \n",
              "L 3841 3500 \n",
              "z\n",
              "\" transform=\"scale(0.015625)\"/>\n",
              "      </defs>\n",
              "      <use xlink:href=\"#DejaVuSans-Oblique-78\" transform=\"translate(0 0.3125)\"/>\n",
              "      <use xlink:href=\"#DejaVuSans-31\" transform=\"translate(59.179688 -16.09375) scale(0.7)\"/>\n",
              "     </g>\n",
              "    </g>\n",
              "   </g>\n",
              "   <g id=\"matplotlib.axis_2\">\n",
              "    <g id=\"ytick_1\">\n",
              "     <g id=\"line2d_4\">\n",
              "      <path d=\"M 59.024844 230.337971 \n",
              "L 282.224844 230.337971 \n",
              "\" clip-path=\"url(#p52dc6110e4)\" style=\"fill: none; stroke: #ffffff; stroke-linecap: round\"/>\n",
              "     </g>\n",
              "     <g id=\"text_5\">\n",
              "      <!-- −0.2 -->\n",
              "      <g style=\"fill: #262626\" transform=\"translate(22.81375 234.517112) scale(0.11 -0.11)\">\n",
              "       <defs>\n",
              "        <path id=\"DejaVuSans-2212\" d=\"M 678 2272 \n",
              "L 4684 2272 \n",
              "L 4684 1741 \n",
              "L 678 1741 \n",
              "L 678 2272 \n",
              "z\n",
              "\" transform=\"scale(0.015625)\"/>\n",
              "        <path id=\"DejaVuSans-32\" d=\"M 1228 531 \n",
              "L 3431 531 \n",
              "L 3431 0 \n",
              "L 469 0 \n",
              "L 469 531 \n",
              "Q 828 903 1448 1529 \n",
              "Q 2069 2156 2228 2338 \n",
              "Q 2531 2678 2651 2914 \n",
              "Q 2772 3150 2772 3378 \n",
              "Q 2772 3750 2511 3984 \n",
              "Q 2250 4219 1831 4219 \n",
              "Q 1534 4219 1204 4116 \n",
              "Q 875 4013 500 3803 \n",
              "L 500 4441 \n",
              "Q 881 4594 1212 4672 \n",
              "Q 1544 4750 1819 4750 \n",
              "Q 2544 4750 2975 4387 \n",
              "Q 3406 4025 3406 3419 \n",
              "Q 3406 3131 3298 2873 \n",
              "Q 3191 2616 2906 2266 \n",
              "Q 2828 2175 2409 1742 \n",
              "Q 1991 1309 1228 531 \n",
              "z\n",
              "\" transform=\"scale(0.015625)\"/>\n",
              "       </defs>\n",
              "       <use xlink:href=\"#DejaVuSans-2212\"/>\n",
              "       <use xlink:href=\"#DejaVuSans-30\" x=\"83.789062\"/>\n",
              "       <use xlink:href=\"#DejaVuSans-2e\" x=\"147.412109\"/>\n",
              "       <use xlink:href=\"#DejaVuSans-32\" x=\"179.199219\"/>\n",
              "      </g>\n",
              "     </g>\n",
              "    </g>\n",
              "    <g id=\"ytick_2\">\n",
              "     <g id=\"line2d_5\">\n",
              "      <path d=\"M 59.024844 202.866532 \n",
              "L 282.224844 202.866532 \n",
              "\" clip-path=\"url(#p52dc6110e4)\" style=\"fill: none; stroke: #ffffff; stroke-linecap: round\"/>\n",
              "     </g>\n",
              "     <g id=\"text_6\">\n",
              "      <!-- 0.0 -->\n",
              "      <g style=\"fill: #262626\" transform=\"translate(32.031406 207.045673) scale(0.11 -0.11)\">\n",
              "       <use xlink:href=\"#DejaVuSans-30\"/>\n",
              "       <use xlink:href=\"#DejaVuSans-2e\" x=\"63.623047\"/>\n",
              "       <use xlink:href=\"#DejaVuSans-30\" x=\"95.410156\"/>\n",
              "      </g>\n",
              "     </g>\n",
              "    </g>\n",
              "    <g id=\"ytick_3\">\n",
              "     <g id=\"line2d_6\">\n",
              "      <path d=\"M 59.024844 175.395094 \n",
              "L 282.224844 175.395094 \n",
              "\" clip-path=\"url(#p52dc6110e4)\" style=\"fill: none; stroke: #ffffff; stroke-linecap: round\"/>\n",
              "     </g>\n",
              "     <g id=\"text_7\">\n",
              "      <!-- 0.2 -->\n",
              "      <g style=\"fill: #262626\" transform=\"translate(32.031406 179.574234) scale(0.11 -0.11)\">\n",
              "       <use xlink:href=\"#DejaVuSans-30\"/>\n",
              "       <use xlink:href=\"#DejaVuSans-2e\" x=\"63.623047\"/>\n",
              "       <use xlink:href=\"#DejaVuSans-32\" x=\"95.410156\"/>\n",
              "      </g>\n",
              "     </g>\n",
              "    </g>\n",
              "    <g id=\"ytick_4\">\n",
              "     <g id=\"line2d_7\">\n",
              "      <path d=\"M 59.024844 147.923655 \n",
              "L 282.224844 147.923655 \n",
              "\" clip-path=\"url(#p52dc6110e4)\" style=\"fill: none; stroke: #ffffff; stroke-linecap: round\"/>\n",
              "     </g>\n",
              "     <g id=\"text_8\">\n",
              "      <!-- 0.4 -->\n",
              "      <g style=\"fill: #262626\" transform=\"translate(32.031406 152.102795) scale(0.11 -0.11)\">\n",
              "       <defs>\n",
              "        <path id=\"DejaVuSans-34\" d=\"M 2419 4116 \n",
              "L 825 1625 \n",
              "L 2419 1625 \n",
              "L 2419 4116 \n",
              "z\n",
              "M 2253 4666 \n",
              "L 3047 4666 \n",
              "L 3047 1625 \n",
              "L 3713 1625 \n",
              "L 3713 1100 \n",
              "L 3047 1100 \n",
              "L 3047 0 \n",
              "L 2419 0 \n",
              "L 2419 1100 \n",
              "L 313 1100 \n",
              "L 313 1709 \n",
              "L 2253 4666 \n",
              "z\n",
              "\" transform=\"scale(0.015625)\"/>\n",
              "       </defs>\n",
              "       <use xlink:href=\"#DejaVuSans-30\"/>\n",
              "       <use xlink:href=\"#DejaVuSans-2e\" x=\"63.623047\"/>\n",
              "       <use xlink:href=\"#DejaVuSans-34\" x=\"95.410156\"/>\n",
              "      </g>\n",
              "     </g>\n",
              "    </g>\n",
              "    <g id=\"ytick_5\">\n",
              "     <g id=\"line2d_8\">\n",
              "      <path d=\"M 59.024844 120.452216 \n",
              "L 282.224844 120.452216 \n",
              "\" clip-path=\"url(#p52dc6110e4)\" style=\"fill: none; stroke: #ffffff; stroke-linecap: round\"/>\n",
              "     </g>\n",
              "     <g id=\"text_9\">\n",
              "      <!-- 0.6 -->\n",
              "      <g style=\"fill: #262626\" transform=\"translate(32.031406 124.631357) scale(0.11 -0.11)\">\n",
              "       <defs>\n",
              "        <path id=\"DejaVuSans-36\" d=\"M 2113 2584 \n",
              "Q 1688 2584 1439 2293 \n",
              "Q 1191 2003 1191 1497 \n",
              "Q 1191 994 1439 701 \n",
              "Q 1688 409 2113 409 \n",
              "Q 2538 409 2786 701 \n",
              "Q 3034 994 3034 1497 \n",
              "Q 3034 2003 2786 2293 \n",
              "Q 2538 2584 2113 2584 \n",
              "z\n",
              "M 3366 4563 \n",
              "L 3366 3988 \n",
              "Q 3128 4100 2886 4159 \n",
              "Q 2644 4219 2406 4219 \n",
              "Q 1781 4219 1451 3797 \n",
              "Q 1122 3375 1075 2522 \n",
              "Q 1259 2794 1537 2939 \n",
              "Q 1816 3084 2150 3084 \n",
              "Q 2853 3084 3261 2657 \n",
              "Q 3669 2231 3669 1497 \n",
              "Q 3669 778 3244 343 \n",
              "Q 2819 -91 2113 -91 \n",
              "Q 1303 -91 875 529 \n",
              "Q 447 1150 447 2328 \n",
              "Q 447 3434 972 4092 \n",
              "Q 1497 4750 2381 4750 \n",
              "Q 2619 4750 2861 4703 \n",
              "Q 3103 4656 3366 4563 \n",
              "z\n",
              "\" transform=\"scale(0.015625)\"/>\n",
              "       </defs>\n",
              "       <use xlink:href=\"#DejaVuSans-30\"/>\n",
              "       <use xlink:href=\"#DejaVuSans-2e\" x=\"63.623047\"/>\n",
              "       <use xlink:href=\"#DejaVuSans-36\" x=\"95.410156\"/>\n",
              "      </g>\n",
              "     </g>\n",
              "    </g>\n",
              "    <g id=\"ytick_6\">\n",
              "     <g id=\"line2d_9\">\n",
              "      <path d=\"M 59.024844 92.980777 \n",
              "L 282.224844 92.980777 \n",
              "\" clip-path=\"url(#p52dc6110e4)\" style=\"fill: none; stroke: #ffffff; stroke-linecap: round\"/>\n",
              "     </g>\n",
              "     <g id=\"text_10\">\n",
              "      <!-- 0.8 -->\n",
              "      <g style=\"fill: #262626\" transform=\"translate(32.031406 97.159918) scale(0.11 -0.11)\">\n",
              "       <defs>\n",
              "        <path id=\"DejaVuSans-38\" d=\"M 2034 2216 \n",
              "Q 1584 2216 1326 1975 \n",
              "Q 1069 1734 1069 1313 \n",
              "Q 1069 891 1326 650 \n",
              "Q 1584 409 2034 409 \n",
              "Q 2484 409 2743 651 \n",
              "Q 3003 894 3003 1313 \n",
              "Q 3003 1734 2745 1975 \n",
              "Q 2488 2216 2034 2216 \n",
              "z\n",
              "M 1403 2484 \n",
              "Q 997 2584 770 2862 \n",
              "Q 544 3141 544 3541 \n",
              "Q 544 4100 942 4425 \n",
              "Q 1341 4750 2034 4750 \n",
              "Q 2731 4750 3128 4425 \n",
              "Q 3525 4100 3525 3541 \n",
              "Q 3525 3141 3298 2862 \n",
              "Q 3072 2584 2669 2484 \n",
              "Q 3125 2378 3379 2068 \n",
              "Q 3634 1759 3634 1313 \n",
              "Q 3634 634 3220 271 \n",
              "Q 2806 -91 2034 -91 \n",
              "Q 1263 -91 848 271 \n",
              "Q 434 634 434 1313 \n",
              "Q 434 1759 690 2068 \n",
              "Q 947 2378 1403 2484 \n",
              "z\n",
              "M 1172 3481 \n",
              "Q 1172 3119 1398 2916 \n",
              "Q 1625 2713 2034 2713 \n",
              "Q 2441 2713 2670 2916 \n",
              "Q 2900 3119 2900 3481 \n",
              "Q 2900 3844 2670 4047 \n",
              "Q 2441 4250 2034 4250 \n",
              "Q 1625 4250 1398 4047 \n",
              "Q 1172 3844 1172 3481 \n",
              "z\n",
              "\" transform=\"scale(0.015625)\"/>\n",
              "       </defs>\n",
              "       <use xlink:href=\"#DejaVuSans-30\"/>\n",
              "       <use xlink:href=\"#DejaVuSans-2e\" x=\"63.623047\"/>\n",
              "       <use xlink:href=\"#DejaVuSans-38\" x=\"95.410156\"/>\n",
              "      </g>\n",
              "     </g>\n",
              "    </g>\n",
              "    <g id=\"ytick_7\">\n",
              "     <g id=\"line2d_10\">\n",
              "      <path d=\"M 59.024844 65.509338 \n",
              "L 282.224844 65.509338 \n",
              "\" clip-path=\"url(#p52dc6110e4)\" style=\"fill: none; stroke: #ffffff; stroke-linecap: round\"/>\n",
              "     </g>\n",
              "     <g id=\"text_11\">\n",
              "      <!-- 1.0 -->\n",
              "      <g style=\"fill: #262626\" transform=\"translate(32.031406 69.688479) scale(0.11 -0.11)\">\n",
              "       <use xlink:href=\"#DejaVuSans-31\"/>\n",
              "       <use xlink:href=\"#DejaVuSans-2e\" x=\"63.623047\"/>\n",
              "       <use xlink:href=\"#DejaVuSans-30\" x=\"95.410156\"/>\n",
              "      </g>\n",
              "     </g>\n",
              "    </g>\n",
              "    <g id=\"ytick_8\">\n",
              "     <g id=\"line2d_11\">\n",
              "      <path d=\"M 59.024844 38.037899 \n",
              "L 282.224844 38.037899 \n",
              "\" clip-path=\"url(#p52dc6110e4)\" style=\"fill: none; stroke: #ffffff; stroke-linecap: round\"/>\n",
              "     </g>\n",
              "     <g id=\"text_12\">\n",
              "      <!-- 1.2 -->\n",
              "      <g style=\"fill: #262626\" transform=\"translate(32.031406 42.21704) scale(0.11 -0.11)\">\n",
              "       <use xlink:href=\"#DejaVuSans-31\"/>\n",
              "       <use xlink:href=\"#DejaVuSans-2e\" x=\"63.623047\"/>\n",
              "       <use xlink:href=\"#DejaVuSans-32\" x=\"95.410156\"/>\n",
              "      </g>\n",
              "     </g>\n",
              "    </g>\n",
              "    <g id=\"text_13\">\n",
              "     <!-- $x_2$ -->\n",
              "     <g style=\"fill: #262626\" transform=\"translate(16.318125 139.618125) rotate(-90) scale(0.12 -0.12)\">\n",
              "      <use xlink:href=\"#DejaVuSans-Oblique-78\" transform=\"translate(0 0.3125)\"/>\n",
              "      <use xlink:href=\"#DejaVuSans-32\" transform=\"translate(59.179688 -16.09375) scale(0.7)\"/>\n",
              "     </g>\n",
              "    </g>\n",
              "   </g>\n",
              "   <g id=\"PathCollection_1\">\n",
              "    <defs>\n",
              "     <path id=\"mc22930b275\" d=\"M 0 3 \n",
              "C 0.795609 3 1.55874 2.683901 2.12132 2.12132 \n",
              "C 2.683901 1.55874 3 0.795609 3 0 \n",
              "C 3 -0.795609 2.683901 -1.55874 2.12132 -2.12132 \n",
              "C 1.55874 -2.683901 0.795609 -3 0 -3 \n",
              "C -0.795609 -3 -1.55874 -2.683901 -2.12132 -2.12132 \n",
              "C -2.683901 -1.55874 -3 -0.795609 -3 0 \n",
              "C -3 0.795609 -2.683901 1.55874 -2.12132 2.12132 \n",
              "C -1.55874 2.683901 -0.795609 3 0 3 \n",
              "z\n",
              "\" style=\"stroke: #333333\"/>\n",
              "    </defs>\n",
              "    <g clip-path=\"url(#p52dc6110e4)\">\n",
              "     <use xlink:href=\"#mc22930b275\" x=\"251.852119\" y=\"53.267455\" style=\"fill: #4c72b0; stroke: #333333\"/>\n",
              "     <use xlink:href=\"#mc22930b275\" x=\"110.348488\" y=\"195.541278\" style=\"fill: #4c72b0; stroke: #333333\"/>\n",
              "     <use xlink:href=\"#mc22930b275\" x=\"241.383182\" y=\"57.718616\" style=\"fill: #4c72b0; stroke: #333333\"/>\n",
              "     <use xlink:href=\"#mc22930b275\" x=\"244.098413\" y=\"56.644268\" style=\"fill: #4c72b0; stroke: #333333\"/>\n",
              "     <use xlink:href=\"#mc22930b275\" x=\"258.0891\" y=\"59.097279\" style=\"fill: #4c72b0; stroke: #333333\"/>\n",
              "     <use xlink:href=\"#mc22930b275\" x=\"105.56299\" y=\"205.167745\" style=\"fill: #4c72b0; stroke: #333333\"/>\n",
              "     <use xlink:href=\"#mc22930b275\" x=\"84.712073\" y=\"209.74263\" style=\"fill: #4c72b0; stroke: #333333\"/>\n",
              "     <use xlink:href=\"#mc22930b275\" x=\"234.603559\" y=\"56.37465\" style=\"fill: #4c72b0; stroke: #333333\"/>\n",
              "     <use xlink:href=\"#mc22930b275\" x=\"243.567867\" y=\"53.655508\" style=\"fill: #4c72b0; stroke: #333333\"/>\n",
              "     <use xlink:href=\"#mc22930b275\" x=\"230.584239\" y=\"84.000201\" style=\"fill: #4c72b0; stroke: #333333\"/>\n",
              "     <use xlink:href=\"#mc22930b275\" x=\"105.144346\" y=\"223.361277\" style=\"fill: #4c72b0; stroke: #333333\"/>\n",
              "     <use xlink:href=\"#mc22930b275\" x=\"228.306689\" y=\"70.582852\" style=\"fill: #4c72b0; stroke: #333333\"/>\n",
              "     <use xlink:href=\"#mc22930b275\" x=\"267.618664\" y=\"73.967598\" style=\"fill: #4c72b0; stroke: #333333\"/>\n",
              "     <use xlink:href=\"#mc22930b275\" x=\"97.903458\" y=\"212.109623\" style=\"fill: #4c72b0; stroke: #333333\"/>\n",
              "     <use xlink:href=\"#mc22930b275\" x=\"247.055654\" y=\"70.960147\" style=\"fill: #4c72b0; stroke: #333333\"/>\n",
              "     <use xlink:href=\"#mc22930b275\" x=\"100.094358\" y=\"204.992271\" style=\"fill: #4c72b0; stroke: #333333\"/>\n",
              "     <use xlink:href=\"#mc22930b275\" x=\"221.791684\" y=\"64.84921\" style=\"fill: #4c72b0; stroke: #333333\"/>\n",
              "     <use xlink:href=\"#mc22930b275\" x=\"119.47438\" y=\"211.43012\" style=\"fill: #4c72b0; stroke: #333333\"/>\n",
              "     <use xlink:href=\"#mc22930b275\" x=\"230.573114\" y=\"74.981877\" style=\"fill: #4c72b0; stroke: #333333\"/>\n",
              "     <use xlink:href=\"#mc22930b275\" x=\"246.133819\" y=\"75.608519\" style=\"fill: #4c72b0; stroke: #333333\"/>\n",
              "     <use xlink:href=\"#mc22930b275\" x=\"245.692107\" y=\"74.973722\" style=\"fill: #4c72b0; stroke: #333333\"/>\n",
              "     <use xlink:href=\"#mc22930b275\" x=\"107.115902\" y=\"179.979231\" style=\"fill: #4c72b0; stroke: #333333\"/>\n",
              "     <use xlink:href=\"#mc22930b275\" x=\"100.472991\" y=\"196.637543\" style=\"fill: #4c72b0; stroke: #333333\"/>\n",
              "     <use xlink:href=\"#mc22930b275\" x=\"125.628242\" y=\"213.741201\" style=\"fill: #4c72b0; stroke: #333333\"/>\n",
              "     <use xlink:href=\"#mc22930b275\" x=\"114.870478\" y=\"231.438672\" style=\"fill: #4c72b0; stroke: #333333\"/>\n",
              "     <use xlink:href=\"#mc22930b275\" x=\"107.184339\" y=\"216.95255\" style=\"fill: #4c72b0; stroke: #333333\"/>\n",
              "     <use xlink:href=\"#mc22930b275\" x=\"115.938486\" y=\"202.927665\" style=\"fill: #4c72b0; stroke: #333333\"/>\n",
              "     <use xlink:href=\"#mc22930b275\" x=\"99.091726\" y=\"201.45254\" style=\"fill: #4c72b0; stroke: #333333\"/>\n",
              "     <use xlink:href=\"#mc22930b275\" x=\"234.039\" y=\"75.735436\" style=\"fill: #4c72b0; stroke: #333333\"/>\n",
              "     <use xlink:href=\"#mc22930b275\" x=\"236.345537\" y=\"63.8437\" style=\"fill: #4c72b0; stroke: #333333\"/>\n",
              "     <use xlink:href=\"#mc22930b275\" x=\"246.651755\" y=\"55.245579\" style=\"fill: #4c72b0; stroke: #333333\"/>\n",
              "     <use xlink:href=\"#mc22930b275\" x=\"107.921844\" y=\"222.031921\" style=\"fill: #4c72b0; stroke: #333333\"/>\n",
              "     <use xlink:href=\"#mc22930b275\" x=\"240.388193\" y=\"54.675199\" style=\"fill: #4c72b0; stroke: #333333\"/>\n",
              "     <use xlink:href=\"#mc22930b275\" x=\"240.261198\" y=\"70.055347\" style=\"fill: #4c72b0; stroke: #333333\"/>\n",
              "     <use xlink:href=\"#mc22930b275\" x=\"114.954434\" y=\"222.101211\" style=\"fill: #4c72b0; stroke: #333333\"/>\n",
              "     <use xlink:href=\"#mc22930b275\" x=\"70.616146\" y=\"226.548341\" style=\"fill: #4c72b0; stroke: #333333\"/>\n",
              "     <use xlink:href=\"#mc22930b275\" x=\"93.504041\" y=\"217.806016\" style=\"fill: #4c72b0; stroke: #333333\"/>\n",
              "     <use xlink:href=\"#mc22930b275\" x=\"231.715307\" y=\"52.332305\" style=\"fill: #4c72b0; stroke: #333333\"/>\n",
              "     <use xlink:href=\"#mc22930b275\" x=\"246.282699\" y=\"60.228887\" style=\"fill: #4c72b0; stroke: #333333\"/>\n",
              "     <use xlink:href=\"#mc22930b275\" x=\"69.170298\" y=\"215.742229\" style=\"fill: #4c72b0; stroke: #333333\"/>\n",
              "     <use xlink:href=\"#mc22930b275\" x=\"227.850882\" y=\"77.122163\" style=\"fill: #4c72b0; stroke: #333333\"/>\n",
              "     <use xlink:href=\"#mc22930b275\" x=\"123.794067\" y=\"217.192092\" style=\"fill: #4c72b0; stroke: #333333\"/>\n",
              "     <use xlink:href=\"#mc22930b275\" x=\"242.913744\" y=\"74.177704\" style=\"fill: #4c72b0; stroke: #333333\"/>\n",
              "     <use xlink:href=\"#mc22930b275\" x=\"131.798648\" y=\"210.203491\" style=\"fill: #4c72b0; stroke: #333333\"/>\n",
              "     <use xlink:href=\"#mc22930b275\" x=\"254.870701\" y=\"88.567701\" style=\"fill: #4c72b0; stroke: #333333\"/>\n",
              "     <use xlink:href=\"#mc22930b275\" x=\"251.397465\" y=\"53.722234\" style=\"fill: #4c72b0; stroke: #333333\"/>\n",
              "     <use xlink:href=\"#mc22930b275\" x=\"85.016619\" y=\"182.151059\" style=\"fill: #4c72b0; stroke: #333333\"/>\n",
              "     <use xlink:href=\"#mc22930b275\" x=\"259.200349\" y=\"66.925858\" style=\"fill: #4c72b0; stroke: #333333\"/>\n",
              "     <use xlink:href=\"#mc22930b275\" x=\"227.108979\" y=\"39.9227\" style=\"fill: #4c72b0; stroke: #333333\"/>\n",
              "     <use xlink:href=\"#mc22930b275\" x=\"107.960965\" y=\"211.575291\" style=\"fill: #4c72b0; stroke: #333333\"/>\n",
              "     <use xlink:href=\"#mc22930b275\" x=\"84.088361\" y=\"206.675249\" style=\"fill: #4c72b0; stroke: #333333\"/>\n",
              "     <use xlink:href=\"#mc22930b275\" x=\"95.290262\" y=\"187.707049\" style=\"fill: #4c72b0; stroke: #333333\"/>\n",
              "     <use xlink:href=\"#mc22930b275\" x=\"81.136225\" y=\"195.498127\" style=\"fill: #4c72b0; stroke: #333333\"/>\n",
              "     <use xlink:href=\"#mc22930b275\" x=\"248.078368\" y=\"70.355282\" style=\"fill: #4c72b0; stroke: #333333\"/>\n",
              "     <use xlink:href=\"#mc22930b275\" x=\"260.212179\" y=\"61.962053\" style=\"fill: #4c72b0; stroke: #333333\"/>\n",
              "     <use xlink:href=\"#mc22930b275\" x=\"232.467829\" y=\"85.655229\" style=\"fill: #4c72b0; stroke: #333333\"/>\n",
              "     <use xlink:href=\"#mc22930b275\" x=\"89.330895\" y=\"220.148724\" style=\"fill: #4c72b0; stroke: #333333\"/>\n",
              "     <use xlink:href=\"#mc22930b275\" x=\"234.532181\" y=\"66.125812\" style=\"fill: #4c72b0; stroke: #333333\"/>\n",
              "     <use xlink:href=\"#mc22930b275\" x=\"230.694609\" y=\"66.560361\" style=\"fill: #4c72b0; stroke: #333333\"/>\n",
              "     <use xlink:href=\"#mc22930b275\" x=\"86.378255\" y=\"228.220707\" style=\"fill: #4c72b0; stroke: #333333\"/>\n",
              "     <use xlink:href=\"#mc22930b275\" x=\"115.013037\" y=\"199.450846\" style=\"fill: #4c72b0; stroke: #333333\"/>\n",
              "     <use xlink:href=\"#mc22930b275\" x=\"77.42748\" y=\"210.616065\" style=\"fill: #4c72b0; stroke: #333333\"/>\n",
              "     <use xlink:href=\"#mc22930b275\" x=\"104.459149\" y=\"185.769053\" style=\"fill: #4c72b0; stroke: #333333\"/>\n",
              "     <use xlink:href=\"#mc22930b275\" x=\"237.149419\" y=\"60.088019\" style=\"fill: #4c72b0; stroke: #333333\"/>\n",
              "     <use xlink:href=\"#mc22930b275\" x=\"256.139391\" y=\"71.747217\" style=\"fill: #4c72b0; stroke: #333333\"/>\n",
              "     <use xlink:href=\"#mc22930b275\" x=\"112.771831\" y=\"202.369882\" style=\"fill: #4c72b0; stroke: #333333\"/>\n",
              "     <use xlink:href=\"#mc22930b275\" x=\"132.909227\" y=\"213.731069\" style=\"fill: #4c72b0; stroke: #333333\"/>\n",
              "     <use xlink:href=\"#mc22930b275\" x=\"104.823861\" y=\"207.244025\" style=\"fill: #4c72b0; stroke: #333333\"/>\n",
              "     <use xlink:href=\"#mc22930b275\" x=\"245.033952\" y=\"72.095374\" style=\"fill: #4c72b0; stroke: #333333\"/>\n",
              "     <use xlink:href=\"#mc22930b275\" x=\"244.13747\" y=\"72.871162\" style=\"fill: #4c72b0; stroke: #333333\"/>\n",
              "     <use xlink:href=\"#mc22930b275\" x=\"97.334379\" y=\"212.375139\" style=\"fill: #4c72b0; stroke: #333333\"/>\n",
              "     <use xlink:href=\"#mc22930b275\" x=\"232.083832\" y=\"68.727477\" style=\"fill: #4c72b0; stroke: #333333\"/>\n",
              "     <use xlink:href=\"#mc22930b275\" x=\"209.73705\" y=\"83.874144\" style=\"fill: #4c72b0; stroke: #333333\"/>\n",
              "     <use xlink:href=\"#mc22930b275\" x=\"241.747559\" y=\"67.541236\" style=\"fill: #4c72b0; stroke: #333333\"/>\n",
              "     <use xlink:href=\"#mc22930b275\" x=\"125.148049\" y=\"204.816096\" style=\"fill: #4c72b0; stroke: #333333\"/>\n",
              "     <use xlink:href=\"#mc22930b275\" x=\"247.027\" y=\"58.260653\" style=\"fill: #4c72b0; stroke: #333333\"/>\n",
              "     <use xlink:href=\"#mc22930b275\" x=\"107.449692\" y=\"197.257524\" style=\"fill: #4c72b0; stroke: #333333\"/>\n",
              "     <use xlink:href=\"#mc22930b275\" x=\"110.45405\" y=\"221.330241\" style=\"fill: #4c72b0; stroke: #333333\"/>\n",
              "     <use xlink:href=\"#mc22930b275\" x=\"123.205918\" y=\"208.190766\" style=\"fill: #4c72b0; stroke: #333333\"/>\n",
              "     <use xlink:href=\"#mc22930b275\" x=\"225.780026\" y=\"42.170214\" style=\"fill: #4c72b0; stroke: #333333\"/>\n",
              "     <use xlink:href=\"#mc22930b275\" x=\"247.720495\" y=\"49.668984\" style=\"fill: #4c72b0; stroke: #333333\"/>\n",
              "     <use xlink:href=\"#mc22930b275\" x=\"237.306246\" y=\"66.149293\" style=\"fill: #4c72b0; stroke: #333333\"/>\n",
              "     <use xlink:href=\"#mc22930b275\" x=\"114.460271\" y=\"206.662341\" style=\"fill: #4c72b0; stroke: #333333\"/>\n",
              "     <use xlink:href=\"#mc22930b275\" x=\"89.274062\" y=\"209.932249\" style=\"fill: #4c72b0; stroke: #333333\"/>\n",
              "     <use xlink:href=\"#mc22930b275\" x=\"115.243573\" y=\"199.350568\" style=\"fill: #4c72b0; stroke: #333333\"/>\n",
              "     <use xlink:href=\"#mc22930b275\" x=\"222.210482\" y=\"71.801554\" style=\"fill: #4c72b0; stroke: #333333\"/>\n",
              "     <use xlink:href=\"#mc22930b275\" x=\"114.857987\" y=\"197.048908\" style=\"fill: #4c72b0; stroke: #333333\"/>\n",
              "     <use xlink:href=\"#mc22930b275\" x=\"104.229558\" y=\"206.821658\" style=\"fill: #4c72b0; stroke: #333333\"/>\n",
              "     <use xlink:href=\"#mc22930b275\" x=\"94.739024\" y=\"213.823048\" style=\"fill: #4c72b0; stroke: #333333\"/>\n",
              "     <use xlink:href=\"#mc22930b275\" x=\"101.948053\" y=\"217.652952\" style=\"fill: #4c72b0; stroke: #333333\"/>\n",
              "     <use xlink:href=\"#mc22930b275\" x=\"219.549317\" y=\"55.571296\" style=\"fill: #4c72b0; stroke: #333333\"/>\n",
              "     <use xlink:href=\"#mc22930b275\" x=\"223.068529\" y=\"71.601518\" style=\"fill: #4c72b0; stroke: #333333\"/>\n",
              "     <use xlink:href=\"#mc22930b275\" x=\"83.083343\" y=\"214.616684\" style=\"fill: #4c72b0; stroke: #333333\"/>\n",
              "     <use xlink:href=\"#mc22930b275\" x=\"201.68293\" y=\"82.68742\" style=\"fill: #4c72b0; stroke: #333333\"/>\n",
              "     <use xlink:href=\"#mc22930b275\" x=\"89.176708\" y=\"184.49864\" style=\"fill: #4c72b0; stroke: #333333\"/>\n",
              "     <use xlink:href=\"#mc22930b275\" x=\"92.895755\" y=\"196.031068\" style=\"fill: #4c72b0; stroke: #333333\"/>\n",
              "     <use xlink:href=\"#mc22930b275\" x=\"228.846369\" y=\"61.70704\" style=\"fill: #4c72b0; stroke: #333333\"/>\n",
              "     <use xlink:href=\"#mc22930b275\" x=\"97.018974\" y=\"189.931707\" style=\"fill: #4c72b0; stroke: #333333\"/>\n",
              "     <use xlink:href=\"#mc22930b275\" x=\"220.994737\" y=\"95.017757\" style=\"fill: #4c72b0; stroke: #333333\"/>\n",
              "     <use xlink:href=\"#mc22930b275\" x=\"225.376036\" y=\"53.822935\" style=\"fill: #4c72b0; stroke: #333333\"/>\n",
              "    </g>\n",
              "   </g>\n",
              "   <g id=\"PathCollection_2\">\n",
              "    <defs>\n",
              "     <path id=\"meb2c544838\" d=\"M 0 3 \n",
              "C 0.795609 3 1.55874 2.683901 2.12132 2.12132 \n",
              "C 2.683901 1.55874 3 0.795609 3 0 \n",
              "C 3 -0.795609 2.683901 -1.55874 2.12132 -2.12132 \n",
              "C 1.55874 -2.683901 0.795609 -3 0 -3 \n",
              "C -0.795609 -3 -1.55874 -2.683901 -2.12132 -2.12132 \n",
              "C -2.683901 -1.55874 -3 -0.795609 -3 0 \n",
              "C -3 0.795609 -2.683901 1.55874 -2.12132 2.12132 \n",
              "C -1.55874 2.683901 -0.795609 3 0 3 \n",
              "z\n",
              "\" style=\"stroke: #333333\"/>\n",
              "    </defs>\n",
              "    <g clip-path=\"url(#p52dc6110e4)\">\n",
              "     <use xlink:href=\"#meb2c544838\" x=\"87.318273\" y=\"58.889653\" style=\"fill: #dd8452; stroke: #333333\"/>\n",
              "     <use xlink:href=\"#meb2c544838\" x=\"110.222908\" y=\"63.772063\" style=\"fill: #dd8452; stroke: #333333\"/>\n",
              "     <use xlink:href=\"#meb2c544838\" x=\"102.383467\" y=\"87.811301\" style=\"fill: #dd8452; stroke: #333333\"/>\n",
              "     <use xlink:href=\"#meb2c544838\" x=\"86.242849\" y=\"69.368701\" style=\"fill: #dd8452; stroke: #333333\"/>\n",
              "     <use xlink:href=\"#meb2c544838\" x=\"93.733128\" y=\"70.832297\" style=\"fill: #dd8452; stroke: #333333\"/>\n",
              "     <use xlink:href=\"#meb2c544838\" x=\"257.425453\" y=\"191.725835\" style=\"fill: #dd8452; stroke: #333333\"/>\n",
              "     <use xlink:href=\"#meb2c544838\" x=\"247.896138\" y=\"204.307848\" style=\"fill: #dd8452; stroke: #333333\"/>\n",
              "     <use xlink:href=\"#meb2c544838\" x=\"218.633654\" y=\"191.241502\" style=\"fill: #dd8452; stroke: #333333\"/>\n",
              "     <use xlink:href=\"#meb2c544838\" x=\"90.544827\" y=\"63.102929\" style=\"fill: #dd8452; stroke: #333333\"/>\n",
              "     <use xlink:href=\"#meb2c544838\" x=\"237.863406\" y=\"220.119688\" style=\"fill: #dd8452; stroke: #333333\"/>\n",
              "     <use xlink:href=\"#meb2c544838\" x=\"234.694284\" y=\"216.481044\" style=\"fill: #dd8452; stroke: #333333\"/>\n",
              "     <use xlink:href=\"#meb2c544838\" x=\"233.759475\" y=\"185.912642\" style=\"fill: #dd8452; stroke: #333333\"/>\n",
              "     <use xlink:href=\"#meb2c544838\" x=\"227.255511\" y=\"195.288481\" style=\"fill: #dd8452; stroke: #333333\"/>\n",
              "     <use xlink:href=\"#meb2c544838\" x=\"226.801156\" y=\"223.456688\" style=\"fill: #dd8452; stroke: #333333\"/>\n",
              "     <use xlink:href=\"#meb2c544838\" x=\"118.865151\" y=\"45.215187\" style=\"fill: #dd8452; stroke: #333333\"/>\n",
              "     <use xlink:href=\"#meb2c544838\" x=\"239.544946\" y=\"198.960417\" style=\"fill: #dd8452; stroke: #333333\"/>\n",
              "     <use xlink:href=\"#meb2c544838\" x=\"92.511535\" y=\"61.554809\" style=\"fill: #dd8452; stroke: #333333\"/>\n",
              "     <use xlink:href=\"#meb2c544838\" x=\"256.502889\" y=\"212.724991\" style=\"fill: #dd8452; stroke: #333333\"/>\n",
              "     <use xlink:href=\"#meb2c544838\" x=\"75.369317\" y=\"67.578831\" style=\"fill: #dd8452; stroke: #333333\"/>\n",
              "     <use xlink:href=\"#meb2c544838\" x=\"129.573427\" y=\"61.159469\" style=\"fill: #dd8452; stroke: #333333\"/>\n",
              "     <use xlink:href=\"#meb2c544838\" x=\"240.412451\" y=\"207.366996\" style=\"fill: #dd8452; stroke: #333333\"/>\n",
              "     <use xlink:href=\"#meb2c544838\" x=\"237.509324\" y=\"203.123462\" style=\"fill: #dd8452; stroke: #333333\"/>\n",
              "     <use xlink:href=\"#meb2c544838\" x=\"107.889868\" y=\"61.603014\" style=\"fill: #dd8452; stroke: #333333\"/>\n",
              "     <use xlink:href=\"#meb2c544838\" x=\"230.403245\" y=\"195.4985\" style=\"fill: #dd8452; stroke: #333333\"/>\n",
              "     <use xlink:href=\"#meb2c544838\" x=\"115.742093\" y=\"83.586997\" style=\"fill: #dd8452; stroke: #333333\"/>\n",
              "     <use xlink:href=\"#meb2c544838\" x=\"99.776286\" y=\"94.00469\" style=\"fill: #dd8452; stroke: #333333\"/>\n",
              "     <use xlink:href=\"#meb2c544838\" x=\"232.048856\" y=\"187.769787\" style=\"fill: #dd8452; stroke: #333333\"/>\n",
              "     <use xlink:href=\"#meb2c544838\" x=\"259.068725\" y=\"203.186999\" style=\"fill: #dd8452; stroke: #333333\"/>\n",
              "     <use xlink:href=\"#meb2c544838\" x=\"109.507984\" y=\"50.292368\" style=\"fill: #dd8452; stroke: #333333\"/>\n",
              "     <use xlink:href=\"#meb2c544838\" x=\"94.64718\" y=\"66.665074\" style=\"fill: #dd8452; stroke: #333333\"/>\n",
              "     <use xlink:href=\"#meb2c544838\" x=\"73.070181\" y=\"68.954448\" style=\"fill: #dd8452; stroke: #333333\"/>\n",
              "     <use xlink:href=\"#meb2c544838\" x=\"245.155024\" y=\"185.055391\" style=\"fill: #dd8452; stroke: #333333\"/>\n",
              "     <use xlink:href=\"#meb2c544838\" x=\"113.455912\" y=\"65.393458\" style=\"fill: #dd8452; stroke: #333333\"/>\n",
              "     <use xlink:href=\"#meb2c544838\" x=\"265.726114\" y=\"209.5006\" style=\"fill: #dd8452; stroke: #333333\"/>\n",
              "     <use xlink:href=\"#meb2c544838\" x=\"109.606849\" y=\"76.841902\" style=\"fill: #dd8452; stroke: #333333\"/>\n",
              "     <use xlink:href=\"#meb2c544838\" x=\"118.521337\" y=\"89.290968\" style=\"fill: #dd8452; stroke: #333333\"/>\n",
              "     <use xlink:href=\"#meb2c544838\" x=\"127.495145\" y=\"52.475694\" style=\"fill: #dd8452; stroke: #333333\"/>\n",
              "     <use xlink:href=\"#meb2c544838\" x=\"227.930673\" y=\"231.567684\" style=\"fill: #dd8452; stroke: #333333\"/>\n",
              "     <use xlink:href=\"#meb2c544838\" x=\"118.616943\" y=\"59.157192\" style=\"fill: #dd8452; stroke: #333333\"/>\n",
              "     <use xlink:href=\"#meb2c544838\" x=\"106.461937\" y=\"68.450449\" style=\"fill: #dd8452; stroke: #333333\"/>\n",
              "     <use xlink:href=\"#meb2c544838\" x=\"221.384649\" y=\"206.405554\" style=\"fill: #dd8452; stroke: #333333\"/>\n",
              "     <use xlink:href=\"#meb2c544838\" x=\"236.03851\" y=\"201.876739\" style=\"fill: #dd8452; stroke: #333333\"/>\n",
              "     <use xlink:href=\"#meb2c544838\" x=\"105.242564\" y=\"70.442426\" style=\"fill: #dd8452; stroke: #333333\"/>\n",
              "     <use xlink:href=\"#meb2c544838\" x=\"102.697759\" y=\"38.847681\" style=\"fill: #dd8452; stroke: #333333\"/>\n",
              "     <use xlink:href=\"#meb2c544838\" x=\"237.998025\" y=\"196.520544\" style=\"fill: #dd8452; stroke: #333333\"/>\n",
              "     <use xlink:href=\"#meb2c544838\" x=\"232.94066\" y=\"207.550907\" style=\"fill: #dd8452; stroke: #333333\"/>\n",
              "     <use xlink:href=\"#meb2c544838\" x=\"104.008984\" y=\"56.353314\" style=\"fill: #dd8452; stroke: #333333\"/>\n",
              "     <use xlink:href=\"#meb2c544838\" x=\"94.95253\" y=\"43.242024\" style=\"fill: #dd8452; stroke: #333333\"/>\n",
              "     <use xlink:href=\"#meb2c544838\" x=\"85.456081\" y=\"87.858107\" style=\"fill: #dd8452; stroke: #333333\"/>\n",
              "     <use xlink:href=\"#meb2c544838\" x=\"108.155238\" y=\"67.888828\" style=\"fill: #dd8452; stroke: #333333\"/>\n",
              "     <use xlink:href=\"#meb2c544838\" x=\"102.109722\" y=\"43.034398\" style=\"fill: #dd8452; stroke: #333333\"/>\n",
              "     <use xlink:href=\"#meb2c544838\" x=\"101.127247\" y=\"60.295907\" style=\"fill: #dd8452; stroke: #333333\"/>\n",
              "     <use xlink:href=\"#meb2c544838\" x=\"95.734468\" y=\"54.209155\" style=\"fill: #dd8452; stroke: #333333\"/>\n",
              "     <use xlink:href=\"#meb2c544838\" x=\"223.371773\" y=\"215.830208\" style=\"fill: #dd8452; stroke: #333333\"/>\n",
              "     <use xlink:href=\"#meb2c544838\" x=\"78.43647\" y=\"90.312468\" style=\"fill: #dd8452; stroke: #333333\"/>\n",
              "     <use xlink:href=\"#meb2c544838\" x=\"237.103335\" y=\"197.421168\" style=\"fill: #dd8452; stroke: #333333\"/>\n",
              "     <use xlink:href=\"#meb2c544838\" x=\"235.697105\" y=\"200.257195\" style=\"fill: #dd8452; stroke: #333333\"/>\n",
              "     <use xlink:href=\"#meb2c544838\" x=\"257.774582\" y=\"173.932758\" style=\"fill: #dd8452; stroke: #333333\"/>\n",
              "     <use xlink:href=\"#meb2c544838\" x=\"233.305791\" y=\"205.028466\" style=\"fill: #dd8452; stroke: #333333\"/>\n",
              "     <use xlink:href=\"#meb2c544838\" x=\"103.008979\" y=\"76.529751\" style=\"fill: #dd8452; stroke: #333333\"/>\n",
              "     <use xlink:href=\"#meb2c544838\" x=\"217.207298\" y=\"196.380034\" style=\"fill: #dd8452; stroke: #333333\"/>\n",
              "     <use xlink:href=\"#meb2c544838\" x=\"229.04446\" y=\"193.329008\" style=\"fill: #dd8452; stroke: #333333\"/>\n",
              "     <use xlink:href=\"#meb2c544838\" x=\"105.496803\" y=\"68.535603\" style=\"fill: #dd8452; stroke: #333333\"/>\n",
              "     <use xlink:href=\"#meb2c544838\" x=\"124.315624\" y=\"56.210727\" style=\"fill: #dd8452; stroke: #333333\"/>\n",
              "     <use xlink:href=\"#meb2c544838\" x=\"272.079389\" y=\"189.8548\" style=\"fill: #dd8452; stroke: #333333\"/>\n",
              "     <use xlink:href=\"#meb2c544838\" x=\"105.414303\" y=\"62.576857\" style=\"fill: #dd8452; stroke: #333333\"/>\n",
              "     <use xlink:href=\"#meb2c544838\" x=\"106.16818\" y=\"32.398125\" style=\"fill: #dd8452; stroke: #333333\"/>\n",
              "     <use xlink:href=\"#meb2c544838\" x=\"111.285718\" y=\"89.631848\" style=\"fill: #dd8452; stroke: #333333\"/>\n",
              "     <use xlink:href=\"#meb2c544838\" x=\"243.485604\" y=\"212.722339\" style=\"fill: #dd8452; stroke: #333333\"/>\n",
              "     <use xlink:href=\"#meb2c544838\" x=\"228.053744\" y=\"195.558199\" style=\"fill: #dd8452; stroke: #333333\"/>\n",
              "     <use xlink:href=\"#meb2c544838\" x=\"229.595995\" y=\"210.754776\" style=\"fill: #dd8452; stroke: #333333\"/>\n",
              "     <use xlink:href=\"#meb2c544838\" x=\"100.547311\" y=\"60.636344\" style=\"fill: #dd8452; stroke: #333333\"/>\n",
              "     <use xlink:href=\"#meb2c544838\" x=\"250.307155\" y=\"229.153602\" style=\"fill: #dd8452; stroke: #333333\"/>\n",
              "     <use xlink:href=\"#meb2c544838\" x=\"231.222674\" y=\"216.603231\" style=\"fill: #dd8452; stroke: #333333\"/>\n",
              "     <use xlink:href=\"#meb2c544838\" x=\"245.742895\" y=\"188.448484\" style=\"fill: #dd8452; stroke: #333333\"/>\n",
              "     <use xlink:href=\"#meb2c544838\" x=\"127.2962\" y=\"52.50543\" style=\"fill: #dd8452; stroke: #333333\"/>\n",
              "     <use xlink:href=\"#meb2c544838\" x=\"82.668722\" y=\"69.95887\" style=\"fill: #dd8452; stroke: #333333\"/>\n",
              "     <use xlink:href=\"#meb2c544838\" x=\"231.010164\" y=\"204.11051\" style=\"fill: #dd8452; stroke: #333333\"/>\n",
              "     <use xlink:href=\"#meb2c544838\" x=\"114.736375\" y=\"90.267815\" style=\"fill: #dd8452; stroke: #333333\"/>\n",
              "     <use xlink:href=\"#meb2c544838\" x=\"120.114528\" y=\"49.747318\" style=\"fill: #dd8452; stroke: #333333\"/>\n",
              "     <use xlink:href=\"#meb2c544838\" x=\"109.395149\" y=\"64.494413\" style=\"fill: #dd8452; stroke: #333333\"/>\n",
              "     <use xlink:href=\"#meb2c544838\" x=\"113.030502\" y=\"59.338995\" style=\"fill: #dd8452; stroke: #333333\"/>\n",
              "     <use xlink:href=\"#meb2c544838\" x=\"244.086699\" y=\"219.308198\" style=\"fill: #dd8452; stroke: #333333\"/>\n",
              "     <use xlink:href=\"#meb2c544838\" x=\"245.325673\" y=\"214.990324\" style=\"fill: #dd8452; stroke: #333333\"/>\n",
              "     <use xlink:href=\"#meb2c544838\" x=\"87.141415\" y=\"73.211206\" style=\"fill: #dd8452; stroke: #333333\"/>\n",
              "     <use xlink:href=\"#meb2c544838\" x=\"246.688374\" y=\"173.213322\" style=\"fill: #dd8452; stroke: #333333\"/>\n",
              "     <use xlink:href=\"#meb2c544838\" x=\"124.724598\" y=\"76.701149\" style=\"fill: #dd8452; stroke: #333333\"/>\n",
              "     <use xlink:href=\"#meb2c544838\" x=\"249.189999\" y=\"164.900427\" style=\"fill: #dd8452; stroke: #333333\"/>\n",
              "     <use xlink:href=\"#meb2c544838\" x=\"220.292281\" y=\"225.756861\" style=\"fill: #dd8452; stroke: #333333\"/>\n",
              "     <use xlink:href=\"#meb2c544838\" x=\"251.205362\" y=\"206.542756\" style=\"fill: #dd8452; stroke: #333333\"/>\n",
              "     <use xlink:href=\"#meb2c544838\" x=\"107.081977\" y=\"67.18169\" style=\"fill: #dd8452; stroke: #333333\"/>\n",
              "     <use xlink:href=\"#meb2c544838\" x=\"116.608607\" y=\"55.515558\" style=\"fill: #dd8452; stroke: #333333\"/>\n",
              "     <use xlink:href=\"#meb2c544838\" x=\"112.415042\" y=\"63.948937\" style=\"fill: #dd8452; stroke: #333333\"/>\n",
              "     <use xlink:href=\"#meb2c544838\" x=\"91.994716\" y=\"69.479972\" style=\"fill: #dd8452; stroke: #333333\"/>\n",
              "     <use xlink:href=\"#meb2c544838\" x=\"96.10379\" y=\"64.545566\" style=\"fill: #dd8452; stroke: #333333\"/>\n",
              "     <use xlink:href=\"#meb2c544838\" x=\"223.864124\" y=\"203.784723\" style=\"fill: #dd8452; stroke: #333333\"/>\n",
              "     <use xlink:href=\"#meb2c544838\" x=\"232.432331\" y=\"233.998125\" style=\"fill: #dd8452; stroke: #333333\"/>\n",
              "     <use xlink:href=\"#meb2c544838\" x=\"141.561425\" y=\"77.331738\" style=\"fill: #dd8452; stroke: #333333\"/>\n",
              "     <use xlink:href=\"#meb2c544838\" x=\"254.73531\" y=\"203.115622\" style=\"fill: #dd8452; stroke: #333333\"/>\n",
              "     <use xlink:href=\"#meb2c544838\" x=\"81.582761\" y=\"55.106906\" style=\"fill: #dd8452; stroke: #333333\"/>\n",
              "    </g>\n",
              "   </g>\n",
              "   <g id=\"patch_3\">\n",
              "    <path d=\"M 59.024844 244.078125 \n",
              "L 59.024844 22.318125 \n",
              "\" style=\"fill: none; stroke: #ffffff; stroke-width: 1.25; stroke-linejoin: miter; stroke-linecap: square\"/>\n",
              "   </g>\n",
              "   <g id=\"patch_4\">\n",
              "    <path d=\"M 282.224844 244.078125 \n",
              "L 282.224844 22.318125 \n",
              "\" style=\"fill: none; stroke: #ffffff; stroke-width: 1.25; stroke-linejoin: miter; stroke-linecap: square\"/>\n",
              "   </g>\n",
              "   <g id=\"patch_5\">\n",
              "    <path d=\"M 59.024844 244.078125 \n",
              "L 282.224844 244.078125 \n",
              "\" style=\"fill: none; stroke: #ffffff; stroke-width: 1.25; stroke-linejoin: miter; stroke-linecap: square\"/>\n",
              "   </g>\n",
              "   <g id=\"patch_6\">\n",
              "    <path d=\"M 59.024844 22.318125 \n",
              "L 282.224844 22.318125 \n",
              "\" style=\"fill: none; stroke: #ffffff; stroke-width: 1.25; stroke-linejoin: miter; stroke-linecap: square\"/>\n",
              "   </g>\n",
              "   <g id=\"text_14\">\n",
              "    <!-- Dataset samples -->\n",
              "    <g style=\"fill: #262626\" transform=\"translate(120.282031 16.318125) scale(0.12 -0.12)\">\n",
              "     <defs>\n",
              "      <path id=\"DejaVuSans-44\" d=\"M 1259 4147 \n",
              "L 1259 519 \n",
              "L 2022 519 \n",
              "Q 2988 519 3436 956 \n",
              "Q 3884 1394 3884 2338 \n",
              "Q 3884 3275 3436 3711 \n",
              "Q 2988 4147 2022 4147 \n",
              "L 1259 4147 \n",
              "z\n",
              "M 628 4666 \n",
              "L 1925 4666 \n",
              "Q 3281 4666 3915 4102 \n",
              "Q 4550 3538 4550 2338 \n",
              "Q 4550 1131 3912 565 \n",
              "Q 3275 0 1925 0 \n",
              "L 628 0 \n",
              "L 628 4666 \n",
              "z\n",
              "\" transform=\"scale(0.015625)\"/>\n",
              "      <path id=\"DejaVuSans-61\" d=\"M 2194 1759 \n",
              "Q 1497 1759 1228 1600 \n",
              "Q 959 1441 959 1056 \n",
              "Q 959 750 1161 570 \n",
              "Q 1363 391 1709 391 \n",
              "Q 2188 391 2477 730 \n",
              "Q 2766 1069 2766 1631 \n",
              "L 2766 1759 \n",
              "L 2194 1759 \n",
              "z\n",
              "M 3341 1997 \n",
              "L 3341 0 \n",
              "L 2766 0 \n",
              "L 2766 531 \n",
              "Q 2569 213 2275 61 \n",
              "Q 1981 -91 1556 -91 \n",
              "Q 1019 -91 701 211 \n",
              "Q 384 513 384 1019 \n",
              "Q 384 1609 779 1909 \n",
              "Q 1175 2209 1959 2209 \n",
              "L 2766 2209 \n",
              "L 2766 2266 \n",
              "Q 2766 2663 2505 2880 \n",
              "Q 2244 3097 1772 3097 \n",
              "Q 1472 3097 1187 3025 \n",
              "Q 903 2953 641 2809 \n",
              "L 641 3341 \n",
              "Q 956 3463 1253 3523 \n",
              "Q 1550 3584 1831 3584 \n",
              "Q 2591 3584 2966 3190 \n",
              "Q 3341 2797 3341 1997 \n",
              "z\n",
              "\" transform=\"scale(0.015625)\"/>\n",
              "      <path id=\"DejaVuSans-74\" d=\"M 1172 4494 \n",
              "L 1172 3500 \n",
              "L 2356 3500 \n",
              "L 2356 3053 \n",
              "L 1172 3053 \n",
              "L 1172 1153 \n",
              "Q 1172 725 1289 603 \n",
              "Q 1406 481 1766 481 \n",
              "L 2356 481 \n",
              "L 2356 0 \n",
              "L 1766 0 \n",
              "Q 1100 0 847 248 \n",
              "Q 594 497 594 1153 \n",
              "L 594 3053 \n",
              "L 172 3053 \n",
              "L 172 3500 \n",
              "L 594 3500 \n",
              "L 594 4494 \n",
              "L 1172 4494 \n",
              "z\n",
              "\" transform=\"scale(0.015625)\"/>\n",
              "      <path id=\"DejaVuSans-73\" d=\"M 2834 3397 \n",
              "L 2834 2853 \n",
              "Q 2591 2978 2328 3040 \n",
              "Q 2066 3103 1784 3103 \n",
              "Q 1356 3103 1142 2972 \n",
              "Q 928 2841 928 2578 \n",
              "Q 928 2378 1081 2264 \n",
              "Q 1234 2150 1697 2047 \n",
              "L 1894 2003 \n",
              "Q 2506 1872 2764 1633 \n",
              "Q 3022 1394 3022 966 \n",
              "Q 3022 478 2636 193 \n",
              "Q 2250 -91 1575 -91 \n",
              "Q 1294 -91 989 -36 \n",
              "Q 684 19 347 128 \n",
              "L 347 722 \n",
              "Q 666 556 975 473 \n",
              "Q 1284 391 1588 391 \n",
              "Q 1994 391 2212 530 \n",
              "Q 2431 669 2431 922 \n",
              "Q 2431 1156 2273 1281 \n",
              "Q 2116 1406 1581 1522 \n",
              "L 1381 1569 \n",
              "Q 847 1681 609 1914 \n",
              "Q 372 2147 372 2553 \n",
              "Q 372 3047 722 3315 \n",
              "Q 1072 3584 1716 3584 \n",
              "Q 2034 3584 2315 3537 \n",
              "Q 2597 3491 2834 3397 \n",
              "z\n",
              "\" transform=\"scale(0.015625)\"/>\n",
              "      <path id=\"DejaVuSans-65\" d=\"M 3597 1894 \n",
              "L 3597 1613 \n",
              "L 953 1613 \n",
              "Q 991 1019 1311 708 \n",
              "Q 1631 397 2203 397 \n",
              "Q 2534 397 2845 478 \n",
              "Q 3156 559 3463 722 \n",
              "L 3463 178 \n",
              "Q 3153 47 2828 -22 \n",
              "Q 2503 -91 2169 -91 \n",
              "Q 1331 -91 842 396 \n",
              "Q 353 884 353 1716 \n",
              "Q 353 2575 817 3079 \n",
              "Q 1281 3584 2069 3584 \n",
              "Q 2775 3584 3186 3129 \n",
              "Q 3597 2675 3597 1894 \n",
              "z\n",
              "M 3022 2063 \n",
              "Q 3016 2534 2758 2815 \n",
              "Q 2500 3097 2075 3097 \n",
              "Q 1594 3097 1305 2825 \n",
              "Q 1016 2553 972 2059 \n",
              "L 3022 2063 \n",
              "z\n",
              "\" transform=\"scale(0.015625)\"/>\n",
              "      <path id=\"DejaVuSans-20\" transform=\"scale(0.015625)\"/>\n",
              "      <path id=\"DejaVuSans-6d\" d=\"M 3328 2828 \n",
              "Q 3544 3216 3844 3400 \n",
              "Q 4144 3584 4550 3584 \n",
              "Q 5097 3584 5394 3201 \n",
              "Q 5691 2819 5691 2113 \n",
              "L 5691 0 \n",
              "L 5113 0 \n",
              "L 5113 2094 \n",
              "Q 5113 2597 4934 2840 \n",
              "Q 4756 3084 4391 3084 \n",
              "Q 3944 3084 3684 2787 \n",
              "Q 3425 2491 3425 1978 \n",
              "L 3425 0 \n",
              "L 2847 0 \n",
              "L 2847 2094 \n",
              "Q 2847 2600 2669 2842 \n",
              "Q 2491 3084 2119 3084 \n",
              "Q 1678 3084 1418 2786 \n",
              "Q 1159 2488 1159 1978 \n",
              "L 1159 0 \n",
              "L 581 0 \n",
              "L 581 3500 \n",
              "L 1159 3500 \n",
              "L 1159 2956 \n",
              "Q 1356 3278 1631 3431 \n",
              "Q 1906 3584 2284 3584 \n",
              "Q 2666 3584 2933 3390 \n",
              "Q 3200 3197 3328 2828 \n",
              "z\n",
              "\" transform=\"scale(0.015625)\"/>\n",
              "      <path id=\"DejaVuSans-70\" d=\"M 1159 525 \n",
              "L 1159 -1331 \n",
              "L 581 -1331 \n",
              "L 581 3500 \n",
              "L 1159 3500 \n",
              "L 1159 2969 \n",
              "Q 1341 3281 1617 3432 \n",
              "Q 1894 3584 2278 3584 \n",
              "Q 2916 3584 3314 3078 \n",
              "Q 3713 2572 3713 1747 \n",
              "Q 3713 922 3314 415 \n",
              "Q 2916 -91 2278 -91 \n",
              "Q 1894 -91 1617 61 \n",
              "Q 1341 213 1159 525 \n",
              "z\n",
              "M 3116 1747 \n",
              "Q 3116 2381 2855 2742 \n",
              "Q 2594 3103 2138 3103 \n",
              "Q 1681 3103 1420 2742 \n",
              "Q 1159 2381 1159 1747 \n",
              "Q 1159 1113 1420 752 \n",
              "Q 1681 391 2138 391 \n",
              "Q 2594 391 2855 752 \n",
              "Q 3116 1113 3116 1747 \n",
              "z\n",
              "\" transform=\"scale(0.015625)\"/>\n",
              "      <path id=\"DejaVuSans-6c\" d=\"M 603 4863 \n",
              "L 1178 4863 \n",
              "L 1178 0 \n",
              "L 603 0 \n",
              "L 603 4863 \n",
              "z\n",
              "\" transform=\"scale(0.015625)\"/>\n",
              "     </defs>\n",
              "     <use xlink:href=\"#DejaVuSans-44\"/>\n",
              "     <use xlink:href=\"#DejaVuSans-61\" x=\"77.001953\"/>\n",
              "     <use xlink:href=\"#DejaVuSans-74\" x=\"138.28125\"/>\n",
              "     <use xlink:href=\"#DejaVuSans-61\" x=\"177.490234\"/>\n",
              "     <use xlink:href=\"#DejaVuSans-73\" x=\"238.769531\"/>\n",
              "     <use xlink:href=\"#DejaVuSans-65\" x=\"290.869141\"/>\n",
              "     <use xlink:href=\"#DejaVuSans-74\" x=\"352.392578\"/>\n",
              "     <use xlink:href=\"#DejaVuSans-20\" x=\"391.601562\"/>\n",
              "     <use xlink:href=\"#DejaVuSans-73\" x=\"423.388672\"/>\n",
              "     <use xlink:href=\"#DejaVuSans-61\" x=\"475.488281\"/>\n",
              "     <use xlink:href=\"#DejaVuSans-6d\" x=\"536.767578\"/>\n",
              "     <use xlink:href=\"#DejaVuSans-70\" x=\"634.179688\"/>\n",
              "     <use xlink:href=\"#DejaVuSans-6c\" x=\"697.65625\"/>\n",
              "     <use xlink:href=\"#DejaVuSans-65\" x=\"725.439453\"/>\n",
              "     <use xlink:href=\"#DejaVuSans-73\" x=\"786.962891\"/>\n",
              "    </g>\n",
              "   </g>\n",
              "   <g id=\"legend_1\">\n",
              "    <g id=\"patch_7\">\n",
              "     <path d=\"M 199.891562 150.994063 \n",
              "L 274.524844 150.994063 \n",
              "Q 276.724844 150.994063 276.724844 148.794063 \n",
              "L 276.724844 117.602188 \n",
              "Q 276.724844 115.402188 274.524844 115.402188 \n",
              "L 199.891562 115.402188 \n",
              "Q 197.691562 115.402188 197.691562 117.602188 \n",
              "L 197.691562 148.794063 \n",
              "Q 197.691562 150.994063 199.891562 150.994063 \n",
              "z\n",
              "\" style=\"fill: #eaeaf2; opacity: 0.8; stroke: #cccccc; stroke-linejoin: miter\"/>\n",
              "    </g>\n",
              "    <g id=\"PathCollection_3\">\n",
              "     <g>\n",
              "      <use xlink:href=\"#mc22930b275\" x=\"213.091562\" y=\"125.272969\" style=\"fill: #4c72b0; stroke: #333333\"/>\n",
              "     </g>\n",
              "    </g>\n",
              "    <g id=\"text_15\">\n",
              "     <!-- Class 0 -->\n",
              "     <g style=\"fill: #262626\" transform=\"translate(232.891562 128.160469) scale(0.11 -0.11)\">\n",
              "      <defs>\n",
              "       <path id=\"DejaVuSans-43\" d=\"M 4122 4306 \n",
              "L 4122 3641 \n",
              "Q 3803 3938 3442 4084 \n",
              "Q 3081 4231 2675 4231 \n",
              "Q 1875 4231 1450 3742 \n",
              "Q 1025 3253 1025 2328 \n",
              "Q 1025 1406 1450 917 \n",
              "Q 1875 428 2675 428 \n",
              "Q 3081 428 3442 575 \n",
              "Q 3803 722 4122 1019 \n",
              "L 4122 359 \n",
              "Q 3791 134 3420 21 \n",
              "Q 3050 -91 2638 -91 \n",
              "Q 1578 -91 968 557 \n",
              "Q 359 1206 359 2328 \n",
              "Q 359 3453 968 4101 \n",
              "Q 1578 4750 2638 4750 \n",
              "Q 3056 4750 3426 4639 \n",
              "Q 3797 4528 4122 4306 \n",
              "z\n",
              "\" transform=\"scale(0.015625)\"/>\n",
              "      </defs>\n",
              "      <use xlink:href=\"#DejaVuSans-43\"/>\n",
              "      <use xlink:href=\"#DejaVuSans-6c\" x=\"69.824219\"/>\n",
              "      <use xlink:href=\"#DejaVuSans-61\" x=\"97.607422\"/>\n",
              "      <use xlink:href=\"#DejaVuSans-73\" x=\"158.886719\"/>\n",
              "      <use xlink:href=\"#DejaVuSans-73\" x=\"210.986328\"/>\n",
              "      <use xlink:href=\"#DejaVuSans-20\" x=\"263.085938\"/>\n",
              "      <use xlink:href=\"#DejaVuSans-30\" x=\"294.873047\"/>\n",
              "     </g>\n",
              "    </g>\n",
              "    <g id=\"PathCollection_4\">\n",
              "     <g>\n",
              "      <use xlink:href=\"#meb2c544838\" x=\"213.091562\" y=\"141.418906\" style=\"fill: #dd8452; stroke: #333333\"/>\n",
              "     </g>\n",
              "    </g>\n",
              "    <g id=\"text_16\">\n",
              "     <!-- Class 1 -->\n",
              "     <g style=\"fill: #262626\" transform=\"translate(232.891562 144.306406) scale(0.11 -0.11)\">\n",
              "      <use xlink:href=\"#DejaVuSans-43\"/>\n",
              "      <use xlink:href=\"#DejaVuSans-6c\" x=\"69.824219\"/>\n",
              "      <use xlink:href=\"#DejaVuSans-61\" x=\"97.607422\"/>\n",
              "      <use xlink:href=\"#DejaVuSans-73\" x=\"158.886719\"/>\n",
              "      <use xlink:href=\"#DejaVuSans-73\" x=\"210.986328\"/>\n",
              "      <use xlink:href=\"#DejaVuSans-20\" x=\"263.085938\"/>\n",
              "      <use xlink:href=\"#DejaVuSans-31\" x=\"294.873047\"/>\n",
              "     </g>\n",
              "    </g>\n",
              "   </g>\n",
              "  </g>\n",
              " </g>\n",
              " <defs>\n",
              "  <clipPath id=\"p52dc6110e4\">\n",
              "   <rect x=\"59.024844\" y=\"22.318125\" width=\"223.2\" height=\"221.76\"/>\n",
              "  </clipPath>\n",
              " </defs>\n",
              "</svg>\n"
            ],
            "text/plain": [
              "<Figure size 400x400 with 1 Axes>"
            ]
          },
          "metadata": {},
          "output_type": "display_data"
        }
      ],
      "source": [
        "visualize_samples(dataset.data, dataset.label)\n",
        "plt.show()"
      ]
    },
    {
      "cell_type": "markdown",
      "metadata": {
        "id": "5gQOV8o0T9uK"
      },
      "source": [
        "#### The data loader class\n",
        "\n",
        "The class `torch.utils.data.DataLoader` represents a Python iterable over a dataset with support for automatic batching, multi-process data loading and many more features. The data loader communicates with the dataset using the function `__getitem__`, and stacks its outputs as tensors over the first dimension to form a batch.\n",
        "In contrast to the dataset class, we usually don't have to define our own data loader class, but can just create an object of it with the dataset as input. Additionally, we can configure our data loader with the following input arguments (only a selection, see full list [here](https://pytorch.org/docs/stable/data.html#torch.utils.data.DataLoader)):\n",
        "\n",
        "* `batch_size`: Number of samples to stack per batch\n",
        "* `shuffle`: If True, the data is returned in a random order. This is important during training for introducing stochasticity.\n",
        "* `num_workers`: Number of subprocesses to use for data loading. The default, 0, means that the data will be loaded in the main process which can slow down training for datasets where loading a data point takes a considerable amount of time (e.g. large images). More workers are recommended for those, but can cause issues on Windows computers. For tiny datasets as ours, 0 workers are usually faster.\n",
        "* `pin_memory`: If True, the data loader will copy Tensors into CUDA pinned memory before returning them. This can save some time for large data points on GPUs. Usually a good practice to use for a training set, but not necessarily for validation and test to save memory on the GPU.\n",
        "* `drop_last`: If True, the last batch is dropped in case it is smaller than the specified batch size. This occurs when the dataset size is not a multiple of the batch size. Only potentially helpful during training to keep a consistent batch size.\n",
        "\n",
        "Let's create a simple data loader below:"
      ]
    },
    {
      "cell_type": "code",
      "execution_count": 49,
      "metadata": {
        "execution": {
          "iopub.execute_input": "2023-08-28T18:46:01.662779Z",
          "iopub.status.busy": "2023-08-28T18:46:01.661959Z",
          "iopub.status.idle": "2023-08-28T18:46:01.668271Z",
          "shell.execute_reply": "2023-08-28T18:46:01.667061Z",
          "shell.execute_reply.started": "2023-08-28T18:46:01.662742Z"
        },
        "id": "6wbfzXhoT9uK",
        "trusted": true
      },
      "outputs": [],
      "source": [
        "data_loader = data.DataLoader(dataset, batch_size=8, shuffle=True)"
      ]
    },
    {
      "cell_type": "code",
      "execution_count": 50,
      "metadata": {
        "execution": {
          "iopub.execute_input": "2023-08-28T18:46:01.670546Z",
          "iopub.status.busy": "2023-08-28T18:46:01.670119Z",
          "iopub.status.idle": "2023-08-28T18:46:01.686496Z",
          "shell.execute_reply": "2023-08-28T18:46:01.685258Z",
          "shell.execute_reply.started": "2023-08-28T18:46:01.670506Z"
        },
        "id": "Qov_RfWTT9uL",
        "trusted": true
      },
      "outputs": [
        {
          "name": "stdout",
          "output_type": "stream",
          "text": [
            "Data inputs torch.Size([8, 2]) \n",
            " tensor([[0.9995, 0.9669],\n",
            "        [0.9189, 0.0694],\n",
            "        [1.0428, 1.0384],\n",
            "        [0.0996, 0.0249],\n",
            "        [0.9300, 0.8654],\n",
            "        [0.9287, 0.0536],\n",
            "        [0.0426, 0.9878],\n",
            "        [1.1961, 0.9384]])\n",
            "Data labels torch.Size([8]) \n",
            " tensor([0, 1, 0, 0, 0, 1, 1, 0])\n"
          ]
        }
      ],
      "source": [
        "# next(iter(...)) catches the first batch of the data loader\n",
        "# If shuffle is True, this will return a different batch every time we run this cell\n",
        "# For iterating over the whole dataset, we can simple use \"for batch in data_loader: ...\"\n",
        "data_inputs, data_labels = next(iter(data_loader))\n",
        "\n",
        "# The shape of the outputs are [batch_size, d_1,...,d_N] where d_1,...,d_N are the\n",
        "# dimensions of the data point returned from the dataset class\n",
        "print(\"Data inputs\", data_inputs.shape, \"\\n\", data_inputs)\n",
        "print(\"Data labels\", data_labels.shape, \"\\n\", data_labels)"
      ]
    },
    {
      "cell_type": "markdown",
      "metadata": {
        "id": "lQFLLGdBT9uL"
      },
      "source": [
        "### Optimization\n",
        "\n",
        "After defining the model and the dataset, it is time to prepare the optimization of the model. During training, we will perform the following steps:\n",
        "\n",
        "1. Get a batch from the data loader\n",
        "2. Obtain the predictions from the model for the batch\n",
        "3. Calculate the loss based on the difference between predictions and labels\n",
        "4. Backpropagation: calculate the gradients for every parameter with respect to the loss\n",
        "5. Update the parameters of the model in the direction of the gradients\n",
        "\n",
        "We have seen how we can do step 1, 2 and 4 in PyTorch. Now, we will look at step 3 and 5."
      ]
    },
    {
      "cell_type": "markdown",
      "metadata": {
        "id": "9GS6V0YOT9uM"
      },
      "source": [
        "#### Loss modules\n",
        "\n",
        "We can calculate the loss for a batch by simply performing a few tensor operations as those are automatically added to the computation graph. For instance, for binary classification, we can use Binary Cross Entropy (BCE) which is defined as follows:\n",
        "\n",
        "$$\\mathcal{L}_{BCE} = -\\sum_i \\left[ y_i \\log x_i + (1 - y_i) \\log (1 - x_i) \\right]$$\n",
        "\n",
        "where $y$ are our labels, and $x$ our predictions, both in the range of $[0,1]$. However, PyTorch already provides a list of predefined loss functions which we can use (see [here](https://pytorch.org/docs/stable/nn.html#loss-functions) for a full list). For instance, for BCE, PyTorch has two modules: `nn.BCELoss()`, `nn.BCEWithLogitsLoss()`. While `nn.BCELoss` expects the inputs $x$ to be in the range $[0,1]$, i.e. the output of a sigmoid, `nn.BCEWithLogitsLoss` combines a sigmoid layer and the BCE loss in a single class. This version is numerically more stable than using a plain Sigmoid followed by a BCE loss because of the logarithms applied in the loss function. Hence, it is adviced to use loss functions applied on \"logits\" where possible (remember to not apply a sigmoid on the output of the model in this case!). For our model defined above, we therefore use the module `nn.BCEWithLogitsLoss`."
      ]
    },
    {
      "cell_type": "code",
      "execution_count": 51,
      "metadata": {
        "execution": {
          "iopub.execute_input": "2023-08-28T18:46:01.688609Z",
          "iopub.status.busy": "2023-08-28T18:46:01.687834Z",
          "iopub.status.idle": "2023-08-28T18:46:01.692862Z",
          "shell.execute_reply": "2023-08-28T18:46:01.692005Z",
          "shell.execute_reply.started": "2023-08-28T18:46:01.688577Z"
        },
        "id": "tzdYHAVsT9uM",
        "trusted": true
      },
      "outputs": [],
      "source": [
        "loss_module = nn.BCEWithLogitsLoss()"
      ]
    },
    {
      "cell_type": "markdown",
      "metadata": {
        "id": "uSVW-zJKT9uM"
      },
      "source": [
        "#### Stochastic Gradient Descent\n",
        "\n",
        "For updating the parameters, PyTorch provides the package `torch.optim` that has most popular optimizers implemented. We will discuss the specific optimizers and their differences later in the course, but will for now use the simplest of them: `torch.optim.SGD`. Stochastic Gradient Descent updates parameters by multiplying the gradients with a small constant, called learning rate, and subtracting those from the parameters (hence minimizing the loss). Therefore, we slowly move towards the direction of minimizing the loss. A good default value of the learning rate for a small network as ours is 0.1."
      ]
    },
    {
      "cell_type": "code",
      "execution_count": 52,
      "metadata": {
        "execution": {
          "iopub.execute_input": "2023-08-28T18:46:01.695293Z",
          "iopub.status.busy": "2023-08-28T18:46:01.694268Z",
          "iopub.status.idle": "2023-08-28T18:46:01.704182Z",
          "shell.execute_reply": "2023-08-28T18:46:01.703367Z",
          "shell.execute_reply.started": "2023-08-28T18:46:01.695259Z"
        },
        "id": "YU9m7H8yT9uM",
        "trusted": true
      },
      "outputs": [],
      "source": [
        "# Input to the optimizer are the parameters of the model: model.parameters()\n",
        "optimizer = torch.optim.SGD(model.parameters(), lr=0.1)"
      ]
    },
    {
      "cell_type": "markdown",
      "metadata": {
        "id": "XUndmUGCT9uN"
      },
      "source": [
        "The optimizer provides two useful functions: `optimizer.step()`, and `optimizer.zero_grad()`. The step function updates the parameters based on the gradients as explained above. The function `optimizer.zero_grad()` sets the gradients of all parameters to zero. While this function seems less relevant at first, it is a crucial pre-step before performing backpropagation. If we call the `backward` function on the loss while the parameter gradients are non-zero from the previous batch, the new gradients would actually be added to the previous ones instead of overwriting them. This is done because a parameter might occur multiple times in a computation graph, and we need to sum the gradients in this case instead of replacing them. Hence, remember to call `optimizer.zero_grad()` before calculating the gradients of a batch."
      ]
    },
    {
      "cell_type": "markdown",
      "metadata": {
        "id": "hUYUqh2LT9uN"
      },
      "source": [
        "### Training\n",
        "\n",
        "Finally, we are ready to train our model. As a first step, we create a slightly larger dataset and specify a data loader with a larger batch size."
      ]
    },
    {
      "cell_type": "code",
      "execution_count": 53,
      "metadata": {
        "execution": {
          "iopub.execute_input": "2023-08-28T18:46:01.706429Z",
          "iopub.status.busy": "2023-08-28T18:46:01.705357Z",
          "iopub.status.idle": "2023-08-28T18:46:01.716430Z",
          "shell.execute_reply": "2023-08-28T18:46:01.715544Z",
          "shell.execute_reply.started": "2023-08-28T18:46:01.706346Z"
        },
        "id": "OKQOtM_8T9uO",
        "trusted": true
      },
      "outputs": [],
      "source": [
        "train_dataset = XORDataset(size=2500)\n",
        "train_data_loader = data.DataLoader(train_dataset, batch_size=128, shuffle=True)"
      ]
    },
    {
      "cell_type": "markdown",
      "metadata": {
        "id": "c5x-RV23T9uO"
      },
      "source": [
        "Now, we can write a small training function. Remember our five steps: load a batch, obtain the predictions, calculate the loss, backpropagate, and update. Additionally, we have to push all data and model parameters to the device of our choice (GPU if available). For the tiny neural network we have, communicating the data to the GPU actually takes much more time than we could save from running the operation on GPU. For large networks, the communication time is significantly smaller than the actual runtime making a GPU crucial in these cases. Still, to practice, we will push the data to GPU here."
      ]
    },
    {
      "cell_type": "code",
      "execution_count": 54,
      "metadata": {
        "execution": {
          "iopub.execute_input": "2023-08-28T18:46:01.718394Z",
          "iopub.status.busy": "2023-08-28T18:46:01.717811Z",
          "iopub.status.idle": "2023-08-28T18:46:01.731765Z",
          "shell.execute_reply": "2023-08-28T18:46:01.730965Z",
          "shell.execute_reply.started": "2023-08-28T18:46:01.718361Z"
        },
        "id": "w2gOoYcUT9uO",
        "trusted": true
      },
      "outputs": [
        {
          "data": {
            "text/plain": [
              "SimpleClassifier(\n",
              "  (linear1): Linear(in_features=2, out_features=4, bias=True)\n",
              "  (act_fn): Tanh()\n",
              "  (linear2): Linear(in_features=4, out_features=1, bias=True)\n",
              ")"
            ]
          },
          "execution_count": 54,
          "metadata": {},
          "output_type": "execute_result"
        }
      ],
      "source": [
        "# Push model to device. Has to be only done once\n",
        "model.to(device)"
      ]
    },
    {
      "cell_type": "markdown",
      "metadata": {
        "id": "xLVTblKjT9uP"
      },
      "source": [
        "In addition, we set our model to training mode. This is done by calling `model.train()`. There exist certain modules that need to perform a different forward step during training than during testing (e.g. BatchNorm and Dropout), and we can switch between them using `model.train()` and `model.eval()`."
      ]
    },
    {
      "cell_type": "code",
      "execution_count": 55,
      "metadata": {
        "execution": {
          "iopub.execute_input": "2023-08-28T18:46:01.734312Z",
          "iopub.status.busy": "2023-08-28T18:46:01.733315Z",
          "iopub.status.idle": "2023-08-28T18:46:01.742432Z",
          "shell.execute_reply": "2023-08-28T18:46:01.741211Z",
          "shell.execute_reply.started": "2023-08-28T18:46:01.734280Z"
        },
        "id": "_qynlkwcT9uR",
        "trusted": true
      },
      "outputs": [],
      "source": [
        "def train_model(model, optimizer, data_loader, loss_module, num_epochs=100):\n",
        "    # Set model to train mode\n",
        "    model.train()\n",
        "\n",
        "    # Training loop\n",
        "    for epoch in tqdm(range(num_epochs)):\n",
        "        for data_inputs, data_labels in data_loader:\n",
        "\n",
        "            ## Step 1: Move input data to device (only strictly necessary if we use GPU)\n",
        "            data_inputs = data_inputs.to(device)\n",
        "            data_labels = data_labels.to(device)\n",
        "\n",
        "            ## Step 2: Run the model on the input data\n",
        "            preds = model(data_inputs)\n",
        "            preds = preds.squeeze(dim=1) # Output is [Batch size, 1], but we want [Batch size]\n",
        "\n",
        "            ## Step 3: Calculate the loss\n",
        "            loss = loss_module(preds, data_labels.float())\n",
        "\n",
        "            ## Step 4: Perform backpropagation\n",
        "            # Before calculating the gradients, we need to ensure that they are all zero.\n",
        "            # The gradients would not be overwritten, but actually added to the existing ones.\n",
        "            optimizer.zero_grad()\n",
        "            # Perform backpropagation\n",
        "            loss.backward()\n",
        "\n",
        "            ## Step 5: Update the parameters\n",
        "            optimizer.step()"
      ]
    },
    {
      "cell_type": "code",
      "execution_count": 56,
      "metadata": {
        "execution": {
          "iopub.execute_input": "2023-08-28T18:46:01.746163Z",
          "iopub.status.busy": "2023-08-28T18:46:01.745381Z",
          "iopub.status.idle": "2023-08-28T18:46:06.019813Z",
          "shell.execute_reply": "2023-08-28T18:46:06.018716Z",
          "shell.execute_reply.started": "2023-08-28T18:46:01.746128Z"
        },
        "id": "if5KkTX9T9uS",
        "trusted": true
      },
      "outputs": [
        {
          "ename": "ImportError",
          "evalue": "IProgress not found. Please update jupyter and ipywidgets. See https://ipywidgets.readthedocs.io/en/stable/user_install.html",
          "output_type": "error",
          "traceback": [
            "\u001b[0;31m---------------------------------------------------------------------------\u001b[0m",
            "\u001b[0;31mImportError\u001b[0m                               Traceback (most recent call last)",
            "\u001b[1;32m/home/abolfazl/Desktop/ML/SoC2023 - Task#03/intro_to_pytorch.ipynb Cell 104\u001b[0m line \u001b[0;36m1\n\u001b[0;32m----> <a href='vscode-notebook-cell:/home/abolfazl/Desktop/ML/SoC2023%20-%20Task%2303/intro_to_pytorch.ipynb#Y205sZmlsZQ%3D%3D?line=0'>1</a>\u001b[0m train_model(model, optimizer, train_data_loader, loss_module)\n",
            "\u001b[1;32m/home/abolfazl/Desktop/ML/SoC2023 - Task#03/intro_to_pytorch.ipynb Cell 104\u001b[0m line \u001b[0;36m6\n\u001b[1;32m      <a href='vscode-notebook-cell:/home/abolfazl/Desktop/ML/SoC2023%20-%20Task%2303/intro_to_pytorch.ipynb#Y205sZmlsZQ%3D%3D?line=2'>3</a>\u001b[0m model\u001b[39m.\u001b[39mtrain()\n\u001b[1;32m      <a href='vscode-notebook-cell:/home/abolfazl/Desktop/ML/SoC2023%20-%20Task%2303/intro_to_pytorch.ipynb#Y205sZmlsZQ%3D%3D?line=4'>5</a>\u001b[0m \u001b[39m# Training loop\u001b[39;00m\n\u001b[0;32m----> <a href='vscode-notebook-cell:/home/abolfazl/Desktop/ML/SoC2023%20-%20Task%2303/intro_to_pytorch.ipynb#Y205sZmlsZQ%3D%3D?line=5'>6</a>\u001b[0m \u001b[39mfor\u001b[39;00m epoch \u001b[39min\u001b[39;00m tqdm(\u001b[39mrange\u001b[39;49m(num_epochs)):\n\u001b[1;32m      <a href='vscode-notebook-cell:/home/abolfazl/Desktop/ML/SoC2023%20-%20Task%2303/intro_to_pytorch.ipynb#Y205sZmlsZQ%3D%3D?line=6'>7</a>\u001b[0m     \u001b[39mfor\u001b[39;00m data_inputs, data_labels \u001b[39min\u001b[39;00m data_loader:\n\u001b[1;32m      <a href='vscode-notebook-cell:/home/abolfazl/Desktop/ML/SoC2023%20-%20Task%2303/intro_to_pytorch.ipynb#Y205sZmlsZQ%3D%3D?line=7'>8</a>\u001b[0m \n\u001b[1;32m      <a href='vscode-notebook-cell:/home/abolfazl/Desktop/ML/SoC2023%20-%20Task%2303/intro_to_pytorch.ipynb#Y205sZmlsZQ%3D%3D?line=8'>9</a>\u001b[0m         \u001b[39m## Step 1: Move input data to device (only strictly necessary if we use GPU)\u001b[39;00m\n\u001b[1;32m     <a href='vscode-notebook-cell:/home/abolfazl/Desktop/ML/SoC2023%20-%20Task%2303/intro_to_pytorch.ipynb#Y205sZmlsZQ%3D%3D?line=9'>10</a>\u001b[0m         data_inputs \u001b[39m=\u001b[39m data_inputs\u001b[39m.\u001b[39mto(device)\n",
            "File \u001b[0;32m~/Desktop/ML/SoC2023 - Task#03/.venv/lib/python3.11/site-packages/tqdm/notebook.py:233\u001b[0m, in \u001b[0;36mtqdm_notebook.__init__\u001b[0;34m(self, *args, **kwargs)\u001b[0m\n\u001b[1;32m    231\u001b[0m unit_scale \u001b[39m=\u001b[39m \u001b[39m1\u001b[39m \u001b[39mif\u001b[39;00m \u001b[39mself\u001b[39m\u001b[39m.\u001b[39munit_scale \u001b[39mis\u001b[39;00m \u001b[39mTrue\u001b[39;00m \u001b[39melse\u001b[39;00m \u001b[39mself\u001b[39m\u001b[39m.\u001b[39munit_scale \u001b[39mor\u001b[39;00m \u001b[39m1\u001b[39m\n\u001b[1;32m    232\u001b[0m total \u001b[39m=\u001b[39m \u001b[39mself\u001b[39m\u001b[39m.\u001b[39mtotal \u001b[39m*\u001b[39m unit_scale \u001b[39mif\u001b[39;00m \u001b[39mself\u001b[39m\u001b[39m.\u001b[39mtotal \u001b[39melse\u001b[39;00m \u001b[39mself\u001b[39m\u001b[39m.\u001b[39mtotal\n\u001b[0;32m--> 233\u001b[0m \u001b[39mself\u001b[39m\u001b[39m.\u001b[39mcontainer \u001b[39m=\u001b[39m \u001b[39mself\u001b[39;49m\u001b[39m.\u001b[39;49mstatus_printer(\u001b[39mself\u001b[39;49m\u001b[39m.\u001b[39;49mfp, total, \u001b[39mself\u001b[39;49m\u001b[39m.\u001b[39;49mdesc, \u001b[39mself\u001b[39;49m\u001b[39m.\u001b[39;49mncols)\n\u001b[1;32m    234\u001b[0m \u001b[39mself\u001b[39m\u001b[39m.\u001b[39mcontainer\u001b[39m.\u001b[39mpbar \u001b[39m=\u001b[39m proxy(\u001b[39mself\u001b[39m)\n\u001b[1;32m    235\u001b[0m \u001b[39mself\u001b[39m\u001b[39m.\u001b[39mdisplayed \u001b[39m=\u001b[39m \u001b[39mFalse\u001b[39;00m\n",
            "File \u001b[0;32m~/Desktop/ML/SoC2023 - Task#03/.venv/lib/python3.11/site-packages/tqdm/notebook.py:108\u001b[0m, in \u001b[0;36mtqdm_notebook.status_printer\u001b[0;34m(_, total, desc, ncols)\u001b[0m\n\u001b[1;32m     99\u001b[0m \u001b[39m# Fallback to text bar if there's no total\u001b[39;00m\n\u001b[1;32m    100\u001b[0m \u001b[39m# DEPRECATED: replaced with an 'info' style bar\u001b[39;00m\n\u001b[1;32m    101\u001b[0m \u001b[39m# if not total:\u001b[39;00m\n\u001b[0;32m   (...)\u001b[0m\n\u001b[1;32m    105\u001b[0m \n\u001b[1;32m    106\u001b[0m \u001b[39m# Prepare IPython progress bar\u001b[39;00m\n\u001b[1;32m    107\u001b[0m \u001b[39mif\u001b[39;00m IProgress \u001b[39mis\u001b[39;00m \u001b[39mNone\u001b[39;00m:  \u001b[39m# #187 #451 #558 #872\u001b[39;00m\n\u001b[0;32m--> 108\u001b[0m     \u001b[39mraise\u001b[39;00m \u001b[39mImportError\u001b[39;00m(WARN_NOIPYW)\n\u001b[1;32m    109\u001b[0m \u001b[39mif\u001b[39;00m total:\n\u001b[1;32m    110\u001b[0m     pbar \u001b[39m=\u001b[39m IProgress(\u001b[39mmin\u001b[39m\u001b[39m=\u001b[39m\u001b[39m0\u001b[39m, \u001b[39mmax\u001b[39m\u001b[39m=\u001b[39mtotal)\n",
            "\u001b[0;31mImportError\u001b[0m: IProgress not found. Please update jupyter and ipywidgets. See https://ipywidgets.readthedocs.io/en/stable/user_install.html"
          ]
        }
      ],
      "source": [
        "train_model(model, optimizer, train_data_loader, loss_module)"
      ]
    },
    {
      "cell_type": "markdown",
      "metadata": {
        "id": "EX20BddxT9uU"
      },
      "source": [
        "#### Saving a model\n",
        "\n",
        "After finish training a model, we save the model to disk so that we can load the same weights at a later time. For this, we extract the so-called `state_dict` from the model which contains all learnable parameters. For our simple model, the state dict contains the following entries:"
      ]
    },
    {
      "cell_type": "code",
      "execution_count": null,
      "metadata": {
        "execution": {
          "iopub.execute_input": "2023-08-28T18:46:06.021750Z",
          "iopub.status.busy": "2023-08-28T18:46:06.021277Z",
          "iopub.status.idle": "2023-08-28T18:46:06.037480Z",
          "shell.execute_reply": "2023-08-28T18:46:06.036161Z",
          "shell.execute_reply.started": "2023-08-28T18:46:06.021716Z"
        },
        "id": "gb1q9xjTT9uU",
        "trusted": true
      },
      "outputs": [],
      "source": [
        "state_dict = model.state_dict()\n",
        "print(state_dict)"
      ]
    },
    {
      "cell_type": "markdown",
      "metadata": {
        "id": "s9RaT9sfT9uV"
      },
      "source": [
        "To save the state dictionary, we can use `torch.save`:"
      ]
    },
    {
      "cell_type": "code",
      "execution_count": null,
      "metadata": {
        "execution": {
          "iopub.execute_input": "2023-08-28T18:46:06.039277Z",
          "iopub.status.busy": "2023-08-28T18:46:06.038944Z",
          "iopub.status.idle": "2023-08-28T18:46:06.047156Z",
          "shell.execute_reply": "2023-08-28T18:46:06.045971Z",
          "shell.execute_reply.started": "2023-08-28T18:46:06.039246Z"
        },
        "id": "u7aMFKJuT9uV",
        "trusted": true
      },
      "outputs": [],
      "source": [
        "# torch.save(object, filename). For the filename, any extension can be used\n",
        "torch.save(state_dict, \"our_model.tar\")"
      ]
    },
    {
      "cell_type": "markdown",
      "metadata": {
        "id": "ZXBmxQHeT9uV"
      },
      "source": [
        "To load a model from a state dict, we use the function `torch.load` to load the state dict from the disk, and the module function `load_state_dict` to overwrite our parameters with the new values:"
      ]
    },
    {
      "cell_type": "code",
      "execution_count": null,
      "metadata": {
        "execution": {
          "iopub.execute_input": "2023-08-28T18:46:06.049365Z",
          "iopub.status.busy": "2023-08-28T18:46:06.048750Z",
          "iopub.status.idle": "2023-08-28T18:46:06.066075Z",
          "shell.execute_reply": "2023-08-28T18:46:06.064982Z",
          "shell.execute_reply.started": "2023-08-28T18:46:06.049329Z"
        },
        "id": "AICM7-C_T9uW",
        "trusted": true
      },
      "outputs": [],
      "source": [
        "# Load state dict from the disk (make sure it is the same name as above)\n",
        "state_dict = torch.load(\"our_model.tar\")\n",
        "\n",
        "# Create a new model and load the state\n",
        "new_model = SimpleClassifier(num_inputs=2, num_hidden=4, num_outputs=1)\n",
        "new_model.load_state_dict(state_dict)\n",
        "\n",
        "# Verify that the parameters are the same\n",
        "print(\"Original model\\n\", model.state_dict())\n",
        "print(\"\\nLoaded model\\n\", new_model.state_dict())"
      ]
    },
    {
      "cell_type": "markdown",
      "metadata": {
        "id": "ke31bXvKT9uW"
      },
      "source": [
        "A detailed tutorial on saving and loading models in PyTorch can be found [here](https://pytorch.org/tutorials/beginner/saving_loading_models.html)."
      ]
    },
    {
      "cell_type": "markdown",
      "metadata": {
        "id": "kg-XUKNIT9uW"
      },
      "source": [
        "### Evaluation\n",
        "\n",
        "Once we have trained a model, it is time to evaluate it on a held-out test set. As our dataset consist of randomly generated data points, we need to first create a test set with a corresponding data loader."
      ]
    },
    {
      "cell_type": "code",
      "execution_count": null,
      "metadata": {
        "execution": {
          "iopub.execute_input": "2023-08-28T18:46:06.068098Z",
          "iopub.status.busy": "2023-08-28T18:46:06.067261Z",
          "iopub.status.idle": "2023-08-28T18:46:06.072981Z",
          "shell.execute_reply": "2023-08-28T18:46:06.072058Z",
          "shell.execute_reply.started": "2023-08-28T18:46:06.068066Z"
        },
        "id": "C6tN9R9OT9uX",
        "trusted": true
      },
      "outputs": [],
      "source": [
        "test_dataset = XORDataset(size=500)\n",
        "# drop_last -> Don't drop the last batch although it is smaller than 128\n",
        "test_data_loader = data.DataLoader(test_dataset, batch_size=128, shuffle=False, drop_last=False)"
      ]
    },
    {
      "cell_type": "markdown",
      "metadata": {
        "id": "dQxPt_CZT9uX"
      },
      "source": [
        "As metric, we will use accuracy which is calculated as follows:\n",
        "\n",
        "$$acc = \\frac{\\#\\text{correct predictions}}{\\#\\text{all predictions}} = \\frac{TP+TN}{TP+TN+FP+FN}$$\n",
        "\n",
        "where TP are the true positives, TN true negatives, FP false positives, and FN the fale negatives.\n",
        "\n",
        "When evaluating the model, we don't need to keep track of the computation graph as we don't intend to calculate the gradients. This reduces the required memory and speed up the model. In PyTorch, we can deactivate the computation graph using `with torch.no_grad(): ...`. Remember to additionally set the model to eval mode."
      ]
    },
    {
      "cell_type": "code",
      "execution_count": null,
      "metadata": {
        "execution": {
          "iopub.execute_input": "2023-08-28T18:46:06.075072Z",
          "iopub.status.busy": "2023-08-28T18:46:06.074145Z",
          "iopub.status.idle": "2023-08-28T18:46:06.084463Z",
          "shell.execute_reply": "2023-08-28T18:46:06.083724Z",
          "shell.execute_reply.started": "2023-08-28T18:46:06.075039Z"
        },
        "id": "SMSxeijfT9uY",
        "trusted": true
      },
      "outputs": [],
      "source": [
        "def eval_model(model, data_loader):\n",
        "    model.eval() # Set model to eval mode\n",
        "    true_preds, num_preds = 0., 0.\n",
        "\n",
        "    with torch.no_grad(): # Deactivate gradients for the following code\n",
        "        for data_inputs, data_labels in data_loader:\n",
        "\n",
        "            # Determine prediction of model on dev set\n",
        "            data_inputs, data_labels = data_inputs.to(device), data_labels.to(device)\n",
        "            preds = model(data_inputs)\n",
        "            preds = preds.squeeze(dim=1)\n",
        "            preds = torch.sigmoid(preds) # Sigmoid to map predictions between 0 and 1\n",
        "            pred_labels = (preds >= 0.5).long() # Binarize predictions to 0 and 1\n",
        "\n",
        "            # Keep records of predictions for the accuracy metric (true_preds=TP+TN, num_preds=TP+TN+FP+FN)\n",
        "            true_preds += (pred_labels == data_labels).sum()\n",
        "            num_preds += data_labels.shape[0]\n",
        "\n",
        "    acc = true_preds / num_preds\n",
        "    print(f\"Accuracy of the model: {100.0*acc:4.2f}%\")"
      ]
    },
    {
      "cell_type": "code",
      "execution_count": null,
      "metadata": {
        "execution": {
          "iopub.execute_input": "2023-08-28T18:46:06.086216Z",
          "iopub.status.busy": "2023-08-28T18:46:06.085517Z",
          "iopub.status.idle": "2023-08-28T18:46:06.107279Z",
          "shell.execute_reply": "2023-08-28T18:46:06.106189Z",
          "shell.execute_reply.started": "2023-08-28T18:46:06.086184Z"
        },
        "id": "e5WXdB9qT9uY",
        "trusted": true
      },
      "outputs": [],
      "source": [
        "eval_model(model, test_data_loader)"
      ]
    },
    {
      "cell_type": "markdown",
      "metadata": {
        "id": "jTaHGXIzT9uY"
      },
      "source": [
        "If we trained our model correctly, we should see a score close to 100% accuracy. However, this is only possible because of our simple task, and unfortunately, we usually don't get such high scores on test sets of more complex tasks."
      ]
    },
    {
      "cell_type": "markdown",
      "metadata": {
        "id": "DcpbhhyeT9uY"
      },
      "source": [
        "#### Visualizing classification boundaries\n",
        "\n",
        "To visualize what our model has learned, we can perform a prediction for every data point in a range of $[-0.5, 1.5]$, and visualize the predicted class as in the sample figure at the beginning of this section. This shows where the model has created decision boundaries, and which points would be classified as $0$, and which as $1$. We therefore get a background image out of blue (class 0) and orange (class 1). The spots where the model is uncertain we will see a blurry overlap. The specific code is less relevant compared to the output figure which should hopefully show us a clear separation of classes:"
      ]
    },
    {
      "cell_type": "code",
      "execution_count": null,
      "metadata": {
        "execution": {
          "iopub.execute_input": "2023-08-28T18:46:06.109359Z",
          "iopub.status.busy": "2023-08-28T18:46:06.108576Z",
          "iopub.status.idle": "2023-08-28T18:46:07.757318Z",
          "shell.execute_reply": "2023-08-28T18:46:07.756414Z",
          "shell.execute_reply.started": "2023-08-28T18:46:06.109324Z"
        },
        "id": "tMn-8RvPT9uZ",
        "trusted": true
      },
      "outputs": [],
      "source": [
        "@torch.no_grad() # Decorator, same effect as \"with torch.no_grad(): ...\" over the whole function.\n",
        "def visualize_classification(model, data, label):\n",
        "    if isinstance(data, torch.Tensor):\n",
        "        data = data.cpu().numpy()\n",
        "    if isinstance(label, torch.Tensor):\n",
        "        label = label.cpu().numpy()\n",
        "    data_0 = data[label == 0]\n",
        "    data_1 = data[label == 1]\n",
        "\n",
        "    fig = plt.figure(figsize=(4,4), dpi=500)\n",
        "    plt.scatter(data_0[:,0], data_0[:,1], edgecolor=\"#333\", label=\"Class 0\")\n",
        "    plt.scatter(data_1[:,0], data_1[:,1], edgecolor=\"#333\", label=\"Class 1\")\n",
        "    plt.title(\"Dataset samples\")\n",
        "    plt.ylabel(r\"$x_2$\")\n",
        "    plt.xlabel(r\"$x_1$\")\n",
        "    plt.legend()\n",
        "\n",
        "    # Let's make use of a lot of operations we have learned above\n",
        "    model.to(device)\n",
        "    c0 = torch.Tensor(to_rgba(\"C0\")).to(device)\n",
        "    c1 = torch.Tensor(to_rgba(\"C1\")).to(device)\n",
        "    x1 = torch.arange(-0.5, 1.5, step=0.01, device=device)\n",
        "    x2 = torch.arange(-0.5, 1.5, step=0.01, device=device)\n",
        "    xx1, xx2 = torch.meshgrid(x1, x2, indexing='ij')  # Meshgrid function as in numpy\n",
        "    model_inputs = torch.stack([xx1, xx2], dim=-1)\n",
        "    preds = model(model_inputs)\n",
        "    preds = torch.sigmoid(preds)\n",
        "    output_image = (1 - preds) * c0[None,None] + preds * c1[None,None]  # Specifying \"None\" in a dimension creates a new one\n",
        "    output_image = output_image.cpu().numpy()  # Convert to numpy array. This only works for tensors on CPU, hence first push to CPU\n",
        "    plt.imshow(output_image, origin='lower', extent=(-0.5, 1.5, -0.5, 1.5))\n",
        "    plt.grid(False)\n",
        "    return fig\n",
        "\n",
        "_ = visualize_classification(model, dataset.data, dataset.label)\n",
        "plt.show()"
      ]
    },
    {
      "cell_type": "markdown",
      "metadata": {
        "id": "-VJPbwMUT9uZ"
      },
      "source": [
        "The decision boundaries might not look exactly as in the figure in the preamble of this section which can be caused by running it on CPU or a different GPU architecture. Nevertheless, the result on the accuracy metric should be the approximately the same."
      ]
    },
    {
      "cell_type": "markdown",
      "metadata": {
        "id": "Qkr5be--T9uZ"
      },
      "source": [
        "## Additional features we didn't get to discuss yet\n",
        "\n",
        "Finally, you are all set to start with your own PyTorch project! In summary, we have looked at how we can build neural networks in PyTorch, and train and test them on data. However, there is still much more to PyTorch we haven't discussed yet. If you are already interested in learning more of PyTorch, we recommend the official [tutorial website](https://pytorch.org/tutorials/) that contains many tutorials on various topics. Especially logging with Tensorboard ([official tutorial here](https://pytorch.org/tutorials/intermediate/tensorboard_tutorial.html)) is a good practice.\n",
        "Nonetheless, let's check it shortly out how we could use TensorBoard in our small example."
      ]
    },
    {
      "cell_type": "markdown",
      "metadata": {
        "id": "-FordrT6T9ua"
      },
      "source": [
        "### TensorBoard logging\n",
        "\n",
        "TensorBoard is a logging and visualization tool that is a popular choice for training deep learning models. Although initially published for TensorFlow, TensorBoard is also integrated in PyTorch allowing us to easily use it. First, let's import it below."
      ]
    },
    {
      "cell_type": "code",
      "execution_count": null,
      "metadata": {
        "execution": {
          "iopub.execute_input": "2023-08-28T18:46:07.759597Z",
          "iopub.status.busy": "2023-08-28T18:46:07.758958Z",
          "iopub.status.idle": "2023-08-28T18:46:16.870814Z",
          "shell.execute_reply": "2023-08-28T18:46:16.869608Z",
          "shell.execute_reply.started": "2023-08-28T18:46:07.759564Z"
        },
        "id": "JxY0u5IgT9ua",
        "trusted": true
      },
      "outputs": [],
      "source": [
        "# Import tensorboard logger from PyTorch\n",
        "from torch.utils.tensorboard import SummaryWriter\n",
        "\n",
        "# Load tensorboard extension for Jupyter Notebook, only need to start TB in the notebook\n",
        "%load_ext tensorboard"
      ]
    },
    {
      "cell_type": "markdown",
      "metadata": {
        "id": "-aOQ7eexT9ua"
      },
      "source": [
        "The last line is required if you want to run TensorBoard directly in the Jupyter Notebook. Otherwise, you can start TensorBoard from the terminal.\n",
        "\n",
        "PyTorch's TensorBoard API is simple to use. We start the logging process by creating a new object, `writer = SummaryWriter(...)`, where we specify the directory in which the logging file should be saved. With this object, we can log different aspects of our model by calling functions of the style `writer.add_...`. For example, we can visualize the computation graph with the function `writer.add_graph`, or add a scalar value like the loss with `writer.add_scalar`. Let's adapt our initial training function with adding a TensorBoard logger below."
      ]
    },
    {
      "cell_type": "code",
      "execution_count": null,
      "metadata": {
        "execution": {
          "iopub.execute_input": "2023-08-28T18:46:16.873104Z",
          "iopub.status.busy": "2023-08-28T18:46:16.872203Z",
          "iopub.status.idle": "2023-08-28T18:46:16.885176Z",
          "shell.execute_reply": "2023-08-28T18:46:16.884197Z",
          "shell.execute_reply.started": "2023-08-28T18:46:16.873067Z"
        },
        "id": "FZTZZK1IT9ub",
        "trusted": true
      },
      "outputs": [],
      "source": [
        "def train_model_with_logger(model, optimizer, data_loader, loss_module, val_dataset, num_epochs=100, logging_dir='runs/our_experiment'):\n",
        "    # Create TensorBoard logger\n",
        "    writer = SummaryWriter(logging_dir)\n",
        "    model_plotted = False\n",
        "\n",
        "    # Set model to train mode\n",
        "    model.train()\n",
        "\n",
        "    # Training loop\n",
        "    for epoch in tqdm(range(num_epochs)):\n",
        "        epoch_loss = 0.0\n",
        "        for data_inputs, data_labels in data_loader:\n",
        "\n",
        "            ## Step 1: Move input data to device (only strictly necessary if we use GPU)\n",
        "            data_inputs = data_inputs.to(device)\n",
        "            data_labels = data_labels.to(device)\n",
        "\n",
        "            # For the very first batch, we visualize the computation graph in TensorBoard\n",
        "            if not model_plotted:\n",
        "                writer.add_graph(model, data_inputs)\n",
        "                model_plotted = True\n",
        "\n",
        "            ## Step 2: Run the model on the input data\n",
        "            preds = model(data_inputs)\n",
        "            preds = preds.squeeze(dim=1) # Output is [Batch size, 1], but we want [Batch size]\n",
        "\n",
        "            ## Step 3: Calculate the loss\n",
        "            loss = loss_module(preds, data_labels.float())\n",
        "\n",
        "            ## Step 4: Perform backpropagation\n",
        "            # Before calculating the gradients, we need to ensure that they are all zero.\n",
        "            # The gradients would not be overwritten, but actually added to the existing ones.\n",
        "            optimizer.zero_grad()\n",
        "            # Perform backpropagation\n",
        "            loss.backward()\n",
        "\n",
        "            ## Step 5: Update the parameters\n",
        "            optimizer.step()\n",
        "\n",
        "            ## Step 6: Take the running average of the loss\n",
        "            epoch_loss += loss.item()\n",
        "\n",
        "        # Add average loss to TensorBoard\n",
        "        epoch_loss /= len(data_loader)\n",
        "        writer.add_scalar('training_loss',\n",
        "                          epoch_loss,\n",
        "                          global_step = epoch + 1)\n",
        "\n",
        "        # Visualize prediction and add figure to TensorBoard\n",
        "        # Since matplotlib figures can be slow in rendering, we only do it every 10th epoch\n",
        "        if (epoch + 1) % 10 == 0:\n",
        "            fig = visualize_classification(model, val_dataset.data, val_dataset.label)\n",
        "            writer.add_figure('predictions',\n",
        "                              fig,\n",
        "                              global_step = epoch + 1)\n",
        "\n",
        "    writer.close()"
      ]
    },
    {
      "cell_type": "markdown",
      "metadata": {
        "id": "JS9bpsxCT9ub"
      },
      "source": [
        "Let's use this method to train a model as before, with a new model and optimizer."
      ]
    },
    {
      "cell_type": "code",
      "execution_count": null,
      "metadata": {
        "execution": {
          "iopub.execute_input": "2023-08-28T18:46:16.887457Z",
          "iopub.status.busy": "2023-08-28T18:46:16.886790Z",
          "iopub.status.idle": "2023-08-28T18:46:34.389774Z",
          "shell.execute_reply": "2023-08-28T18:46:34.388715Z",
          "shell.execute_reply.started": "2023-08-28T18:46:16.887421Z"
        },
        "id": "36iTrgYHT9uc",
        "trusted": true
      },
      "outputs": [],
      "source": [
        "model = SimpleClassifier(num_inputs=2, num_hidden=4, num_outputs=1).to(device)\n",
        "optimizer = torch.optim.SGD(model.parameters(), lr=0.1)\n",
        "train_model_with_logger(model, optimizer, train_data_loader, loss_module, val_dataset=dataset)"
      ]
    },
    {
      "cell_type": "markdown",
      "metadata": {
        "id": "o-kvJkuqT9ud"
      },
      "source": [
        "The TensorBoard file in the folder `runs/our_experiment` now contains a loss curve, the computation graph of our network, and a visualization of the learned predictions over number of epochs. To start the TensorBoard visualizer, simply run the following statement:"
      ]
    },
    {
      "cell_type": "code",
      "execution_count": null,
      "metadata": {
        "execution": {
          "iopub.execute_input": "2023-08-28T18:46:34.396203Z",
          "iopub.status.busy": "2023-08-28T18:46:34.390890Z",
          "iopub.status.idle": "2023-08-28T18:46:41.923022Z",
          "shell.execute_reply": "2023-08-28T18:46:41.921896Z",
          "shell.execute_reply.started": "2023-08-28T18:46:34.396164Z"
        },
        "id": "hVBkuEryT9ud",
        "trusted": true
      },
      "outputs": [],
      "source": [
        "%tensorboard --logdir runs/our_experiment"
      ]
    },
    {
      "cell_type": "markdown",
      "metadata": {
        "id": "6w78LbKET9ue"
      },
      "source": [
        "<center><img src=\"https://github.com/phlippe/uvadlc_notebooks/blob/master/docs/tutorial_notebooks/tutorial2/tensorboard_screenshot.png?raw=1\" width=\"1100px\"></center>\n",
        "\n",
        "TensorBoard visualizations can help to identify possible issues with your model, and identify situations such as overfitting. You can also track the training progress while a model is training, since the logger automatically writes everything added to it to the logging file. Feel free to explore the TensorBoard functionalities."
      ]
    }
  ],
  "metadata": {
    "accelerator": "GPU",
    "colab": {
      "gpuType": "T4",
      "provenance": []
    },
    "kernelspec": {
      "display_name": "Python 3",
      "name": "python3"
    },
    "language_info": {
      "codemirror_mode": {
        "name": "ipython",
        "version": 3
      },
      "file_extension": ".py",
      "mimetype": "text/x-python",
      "name": "python",
      "nbconvert_exporter": "python",
      "pygments_lexer": "ipython3",
      "version": "3.11.2"
    }
  },
  "nbformat": 4,
  "nbformat_minor": 0
}
